{
 "cells": [
  {
   "cell_type": "code",
   "execution_count": 1,
   "id": "0",
   "metadata": {},
   "outputs": [],
   "source": [
    "import numpy as np\n",
    "import pandas as pd\n",
    "import pooch\n",
    "from scipy.optimize import root"
   ]
  },
  {
   "cell_type": "code",
   "execution_count": 2,
   "id": "1",
   "metadata": {},
   "outputs": [],
   "source": [
    "rcmip_emissions_file = pooch.retrieve(\n",
    "    url=\"doi:10.5281/zenodo.4589756/rcmip-emissions-annual-means-v5-1-0.csv\",\n",
    "    known_hash=\"md5:4044106f55ca65b094670e7577eaf9b3\",\n",
    ")\n",
    "emis_df = pd.read_csv(rcmip_emissions_file)"
   ]
  },
  {
   "cell_type": "code",
   "execution_count": 3,
   "id": "2",
   "metadata": {},
   "outputs": [],
   "source": [
    "bc_1850 = emis_df.loc[(emis_df['Scenario']=='historical')&(emis_df['Variable']=='Emissions|BC')&(emis_df['Region']=='World'),'1850'].values[0]\n",
    "oc_1850 = emis_df.loc[(emis_df['Scenario']=='historical')&(emis_df['Variable']=='Emissions|OC')&(emis_df['Region']=='World'),'1850'].values[0]\n",
    "so2_1850 = emis_df.loc[(emis_df['Scenario']=='historical')&(emis_df['Variable']=='Emissions|Sulfur')&(emis_df['Region']=='World'),'1850'].values[0]\n",
    "\n",
    "bc_2014 = emis_df.loc[(emis_df['Scenario']=='historical')&(emis_df['Variable']=='Emissions|BC')&(emis_df['Region']=='World'),'2014'].values[0]\n",
    "oc_2014 = emis_df.loc[(emis_df['Scenario']=='historical')&(emis_df['Variable']=='Emissions|OC')&(emis_df['Region']=='World'),'2014'].values[0]\n",
    "so2_2014 = emis_df.loc[(emis_df['Scenario']=='historical')&(emis_df['Variable']=='Emissions|Sulfur')&(emis_df['Region']=='World'),'2014'].values[0]"
   ]
  },
  {
   "cell_type": "code",
   "execution_count": 4,
   "id": "3",
   "metadata": {},
   "outputs": [
    {
     "data": {
      "text/plain": [
       "np.float64(2.5711244787427185)"
      ]
     },
     "execution_count": 4,
     "metadata": {},
     "output_type": "execute_result"
    }
   ],
   "source": [
    "bc_1850"
   ]
  },
  {
   "cell_type": "code",
   "execution_count": 5,
   "id": "4",
   "metadata": {},
   "outputs": [
    {
     "data": {
      "text/plain": [
       "np.float64(9.744379658087515)"
      ]
     },
     "execution_count": 5,
     "metadata": {},
     "output_type": "execute_result"
    }
   ],
   "source": [
    "bc_2014"
   ]
  },
  {
   "cell_type": "code",
   "execution_count": 6,
   "id": "5",
   "metadata": {},
   "outputs": [],
   "source": [
    "# Fiona reports IRF as ERFari and RA as ERFaci, where IRF is calculated using the Ghan 2012 method (2013 I think).\n",
    "# This is same as Thornhill et al. 2021.\n",
    "\n",
    "# BUT! Zelinka et al. 2023 states that APRP is not the same as Ghan. So we are not comparing apples with apples\n",
    "target_erfari_so2 = -0.49\n",
    "target_erfari_bc = +0.38\n",
    "target_erfari_oc = -0.14\n",
    "target_erfari = -0.15\n",
    "target_erfaci_so2 = -0.88\n",
    "target_erfaci_bc = -0.01\n",
    "target_erfaci_oc = -0.08\n",
    "target_erfaci = -0.99\n",
    "target_albedo = +0.05\n",
    "\n",
    "# O'Connor et al. 2021: https://acp.copernicus.org/articles/21/1211/2021/acp-21-1211-2021.html\n",
    "# Individual forcing experiments:\n",
    "# Sulfate ERF = -1.37\n",
    "# BC ERF      = +0.37\n",
    "# OC ERF      = -0.22\n",
    "# total       = -1.22\n",
    "\n",
    "# All species varied together = -1.09\n",
    "\n",
    "# Thornhill et al. 2021 https://acp.copernicus.org/articles/21/853/2021/acp-21-853-2021.html\n",
    "\n",
    "# Fiona sweeps up ERFcs,af into the RA term, which is dominated by ERFaci. Ghan attributes this to surface albedo,\n",
    "# Thornhill says yes albedo, plus other tropospheric adjustments."
   ]
  },
  {
   "cell_type": "code",
   "execution_count": 7,
   "id": "6",
   "metadata": {},
   "outputs": [
    {
     "data": {
      "text/plain": [
       "-0.25"
      ]
     },
     "execution_count": 7,
     "metadata": {},
     "output_type": "execute_result"
    }
   ],
   "source": [
    "-0.49 + 0.38 - 0.14"
   ]
  },
  {
   "cell_type": "code",
   "execution_count": 8,
   "id": "7",
   "metadata": {},
   "outputs": [
    {
     "data": {
      "text/plain": [
       "-0.97"
      ]
     },
     "execution_count": 8,
     "metadata": {},
     "output_type": "execute_result"
    }
   ],
   "source": [
    "-0.88 - 0.01 - 0.08"
   ]
  },
  {
   "cell_type": "code",
   "execution_count": 9,
   "id": "8",
   "metadata": {},
   "outputs": [],
   "source": [
    "def erf_rootfinder(x):\n",
    "    alpha_so2, alpha_bc, alpha_oc, s_so2, s_bc, s_oc, beta = x\n",
    "    erfari_so2 = (so2_2014 - so2_1850) * alpha_so2\n",
    "    erfari_bc = (bc_2014 - bc_1850) * alpha_bc\n",
    "    erfari_oc = (oc_2014 - oc_1850) * alpha_oc\n",
    "    erfaci_so2 = beta * (np.log(1 + s_so2 * so2_2014) - np.log(1 + s_so2 * so2_1850))\n",
    "    erfaci_bc = beta * (np.log(1 + s_bc * bc_2014) - np.log(1 + s_bc * bc_1850))\n",
    "    erfaci_oc = beta * (np.log(1 + s_oc * oc_2014) - np.log(1 + s_oc * oc_1850))\n",
    "    erfaci = beta * (np.log(1 + s_so2 * so2_2014 + s_bc * bc_2014 + s_oc * oc_2014) - np.log(1 + s_so2 * so2_1850 + s_bc * bc_1850 + s_oc * oc_1850))\n",
    "    return np.array(\n",
    "        [\n",
    "            erfari_so2 - target_erfari_so2, \n",
    "            erfari_bc - target_erfari_bc, \n",
    "            erfari_oc - target_erfari_oc, \n",
    "            erfaci_so2 - target_erfaci_so2, \n",
    "            erfaci_bc - target_erfaci_bc, \n",
    "            erfaci_oc - target_erfaci_oc, \n",
    "            erfaci - target_erfaci\n",
    "        ]\n",
    "    )"
   ]
  },
  {
   "cell_type": "code",
   "execution_count": 10,
   "id": "9",
   "metadata": {},
   "outputs": [
    {
     "name": "stderr",
     "output_type": "stream",
     "text": [
      "/var/folders/9c/9qs75_fd7sz60mklfvdt47z80000gp/T/ipykernel_90987/2798208126.py:6: RuntimeWarning: invalid value encountered in log\n",
      "  erfaci_so2 = beta * (np.log(1 + s_so2 * so2_2014) - np.log(1 + s_so2 * so2_1850))\n",
      "/var/folders/9c/9qs75_fd7sz60mklfvdt47z80000gp/T/ipykernel_90987/2798208126.py:9: RuntimeWarning: invalid value encountered in log\n",
      "  erfaci = beta * (np.log(1 + s_so2 * so2_2014 + s_bc * bc_2014 + s_oc * oc_2014) - np.log(1 + s_so2 * so2_1850 + s_bc * bc_1850 + s_oc * oc_1850))\n"
     ]
    }
   ],
   "source": [
    "solution = root(\n",
    "    erf_rootfinder, \n",
    "    np.array(\n",
    "        [\n",
    "            -0.0043,\n",
    "            0.05158,\n",
    "            -0.0052,\n",
    "            0.037031928,\n",
    "            0.001,\n",
    "            0.016231426,\n",
    "            -0.735769463,\n",
    "        ],\n",
    "    ),\n",
    "    method='lm',\n",
    "    options={'maxiter': 500000}\n",
    ")"
   ]
  },
  {
   "cell_type": "code",
   "execution_count": 11,
   "id": "10",
   "metadata": {},
   "outputs": [
    {
     "data": {
      "text/plain": [
       " message: Both actual and predicted relative reductions in the sum of squares\n",
       "            are at most 0.000000\n",
       " success: True\n",
       "  status: 1\n",
       "     fun: [ 5.551e-17  0.000e+00 -2.776e-17 -5.000e-03 -5.000e-03\n",
       "           -5.000e-03  5.001e-03]\n",
       "       x: [-4.476e-03  5.297e-02 -7.813e-03  5.030e-08  1.301e-08\n",
       "            2.951e-08 -1.607e+05]\n",
       "   cov_x: [[ 8.346e-05  1.834e-19 ...  1.715e-13  8.947e-01]\n",
       "           [ 1.834e-19  1.943e-02 ...  1.127e-13  5.878e-01]\n",
       "           ...\n",
       "           [ 1.715e-13  1.127e-13 ...  3.178e-03  1.658e+10]\n",
       "           [ 8.947e-01  5.878e-01 ...  1.658e+10  8.651e+22]]\n",
       "  method: lm\n",
       "    nfev: 22312\n",
       "    fjac: [[-2.485e+07 -1.951e+06 ...  0.000e+00  8.227e-06]\n",
       "           [-1.951e+06 -3.379e+06 ...  0.000e+00  6.858e-07]\n",
       "           ...\n",
       "           [ 0.000e+00  0.000e+00 ... -7.173e+00  4.874e-23]\n",
       "           [ 8.227e-06  6.858e-07 ...  4.874e-23 -3.400e-12]]\n",
       "    ipvt: [3 5 4 0 2 1 6]\n",
       "     qtf: [-6.048e-09  3.204e-07  9.326e-08  5.530e-17 -2.690e-17\n",
       "            2.960e-19 -1.000e-02]"
      ]
     },
     "execution_count": 11,
     "metadata": {},
     "output_type": "execute_result"
    }
   ],
   "source": [
    "solution"
   ]
  },
  {
   "cell_type": "code",
   "execution_count": 12,
   "id": "11",
   "metadata": {},
   "outputs": [
    {
     "data": {
      "text/plain": [
       "array([-4.47634941e-03,  5.29745549e-02, -7.81293747e-03,  5.02952839e-08,\n",
       "        1.30087418e-08,  2.95093423e-08, -1.60747888e+05])"
      ]
     },
     "execution_count": 12,
     "metadata": {},
     "output_type": "execute_result"
    }
   ],
   "source": [
    "solution.x"
   ]
  },
  {
   "cell_type": "code",
   "execution_count": null,
   "id": "12",
   "metadata": {},
   "outputs": [],
   "source": []
  }
 ],
 "metadata": {
  "kernelspec": {
   "display_name": "fair_virtual_env",
   "language": "python",
   "name": "python3"
  },
  "language_info": {
   "codemirror_mode": {
    "name": "ipython",
    "version": 3
   },
   "file_extension": ".py",
   "mimetype": "text/x-python",
   "name": "python",
   "nbconvert_exporter": "python",
   "pygments_lexer": "ipython3",
   "version": "3.13.3"
  }
 },
 "nbformat": 4,
 "nbformat_minor": 5
}
