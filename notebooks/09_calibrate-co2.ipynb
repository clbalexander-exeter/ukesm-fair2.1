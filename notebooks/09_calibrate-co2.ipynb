{
 "cells": [
  {
   "cell_type": "markdown",
   "id": "0",
   "metadata": {},
   "source": [
    "# CO2 forcing\n",
    "\n",
    "\n",
    "From O'Connor et al. 2021:\n",
    "\n",
    "- +1.89 W m-2"
   ]
  },
  {
   "cell_type": "code",
   "execution_count": 1,
   "id": "1",
   "metadata": {},
   "outputs": [
    {
     "name": "stderr",
     "output_type": "stream",
     "text": [
      "/Users/c.l.b.alexander/Documents/FAIR/fair_virtual_env/lib/python3.13/site-packages/tqdm/auto.py:21: TqdmWarning: IProgress not found. Please update jupyter and ipywidgets. See https://ipywidgets.readthedocs.io/en/stable/user_install.html\n",
      "  from .autonotebook import tqdm as notebook_tqdm\n"
     ]
    }
   ],
   "source": [
    "from fair import FAIR\n",
    "from fair.interface import fill, initialise\n",
    "from fair.io import read_properties\n",
    "\n",
    "import matplotlib.pyplot as pl\n",
    "import pandas as pd\n",
    "import pooch\n",
    "from scipy.optimize import root"
   ]
  },
  {
   "cell_type": "code",
   "execution_count": 2,
   "id": "2",
   "metadata": {},
   "outputs": [],
   "source": [
    "climate_response_df = pd.read_csv('../data/fair-calibrations/4xCO2_energy_balance_ebm3.csv')"
   ]
  },
  {
   "cell_type": "code",
   "execution_count": 3,
   "id": "3",
   "metadata": {},
   "outputs": [
    {
     "data": {
      "text/plain": [
       "{'CO2': {'type': 'co2',\n",
       "  'input_mode': 'concentration',\n",
       "  'greenhouse_gas': True,\n",
       "  'aerosol_chemistry_from_emissions': False,\n",
       "  'aerosol_chemistry_from_concentration': False},\n",
       " 'CH4': {'type': 'ch4',\n",
       "  'input_mode': 'concentration',\n",
       "  'greenhouse_gas': True,\n",
       "  'aerosol_chemistry_from_emissions': False,\n",
       "  'aerosol_chemistry_from_concentration': True},\n",
       " 'N2O': {'type': 'n2o',\n",
       "  'input_mode': 'concentration',\n",
       "  'greenhouse_gas': True,\n",
       "  'aerosol_chemistry_from_emissions': False,\n",
       "  'aerosol_chemistry_from_concentration': True}}"
      ]
     },
     "execution_count": 3,
     "metadata": {},
     "output_type": "execute_result"
    }
   ],
   "source": [
    "scenarios = ['ssp245']\n",
    "configs = ['UKESM1-0-LL']\n",
    "species = ['CO2', 'CH4', 'N2O']\n",
    "species, properties = read_properties(species=species, filename='../data/species_configs_properties_vanilla.csv')\n",
    "properties['CO2']['input_mode'] = 'concentration'\n",
    "properties['CH4']['input_mode'] = 'concentration'\n",
    "properties['N2O']['input_mode'] = 'concentration'\n",
    "properties"
   ]
  },
  {
   "cell_type": "code",
   "execution_count": 4,
   "id": "4",
   "metadata": {},
   "outputs": [],
   "source": [
    "rcmip_concentration_file = pooch.retrieve(\n",
    "    url=\"doi:10.5281/zenodo.4589756/rcmip-concentrations-annual-means-v5-1-0.csv\",\n",
    "    known_hash=\"md5:0d82c3c3cdd4dd632b2bb9449a5c315f\",\n",
    ")\n",
    "conc_df = pd.read_csv(rcmip_concentration_file)"
   ]
  },
  {
   "cell_type": "code",
   "execution_count": 5,
   "id": "5",
   "metadata": {},
   "outputs": [],
   "source": [
    "co2 = conc_df.loc[(conc_df['Scenario']=='ssp245')&(conc_df['Variable']=='Atmospheric Concentrations|CO2')&(conc_df['Region']=='World'),'1850':'2015'].values.squeeze()\n",
    "co2[-2] = co2[-1]\n",
    "ch4 = conc_df.loc[(conc_df['Scenario']=='historical')&(conc_df['Variable']=='Atmospheric Concentrations|CH4')&(conc_df['Region']=='World'),'1850'].values[0]\n",
    "n2o = conc_df.loc[(conc_df['Scenario']=='historical')&(conc_df['Variable']=='Atmospheric Concentrations|N2O')&(conc_df['Region']=='World'),'1850'].values[0]"
   ]
  },
  {
   "cell_type": "code",
   "execution_count": 6,
   "id": "6",
   "metadata": {},
   "outputs": [],
   "source": [
    "target_forcing = 1.89\n",
    "\n",
    "def erf_rootfinder(x):\n",
    "    f = FAIR(temperature_prescribed=True)\n",
    "    f.define_time(1850, 2015, 1)\n",
    "    f.define_scenarios(scenarios)\n",
    "    f.define_configs(configs)\n",
    "    f.define_species(species, properties)\n",
    "    f.allocate()\n",
    "    f.fill_species_configs(filename='../data/species_configs_properties_vanilla.csv')\n",
    "    \n",
    "    # 1850 baselines\n",
    "    f.species_configs['baseline_concentration'].loc[dict(specie='CO2')] = co2[0]\n",
    "    f.species_configs['baseline_concentration'].loc[dict(specie='CH4')] = ch4\n",
    "    f.species_configs['baseline_concentration'].loc[dict(specie='N2O')] = n2o\n",
    "    \n",
    "#    f.fill_species_configs()\n",
    "    fill(f.climate_configs['ocean_heat_capacity'], climate_response_df.loc[0, 'C1':'C3'])\n",
    "    fill(f.climate_configs['ocean_heat_transfer'], climate_response_df.loc[0, 'kappa1':'kappa3'])\n",
    "    fill(f.climate_configs['deep_ocean_efficacy'], climate_response_df.loc[0, 'epsilon'])\n",
    "    fill(f.climate_configs['gamma_autocorrelation'], climate_response_df.loc[0, 'gamma'])\n",
    "    \n",
    "    # fill emissions and concentrations\n",
    "    f.concentration.loc[dict(specie='CO2')] = co2[:, None, None]\n",
    "    f.concentration.loc[dict(specie='CH4')] = ch4\n",
    "    f.concentration.loc[dict(specie='N2O')] = n2o\n",
    "\n",
    "    f.temperature[:] = 0\n",
    "\n",
    "    # this is the variable we are changing: CO2 scale factor\n",
    "    f.species_configs['forcing_scale'].loc[dict(specie=\"CO2\")] = x\n",
    "    \n",
    "    initialise(f.forcing, 0)\n",
    "    initialise(f.temperature, 0)\n",
    "    initialise(f.cumulative_emissions, 0) \n",
    "    f.run(progress=False)\n",
    "    return f.forcing[-1, 0, 0, 0] - target_forcing"
   ]
  },
  {
   "cell_type": "code",
   "execution_count": 7,
   "id": "7",
   "metadata": {},
   "outputs": [],
   "source": [
    "sol = root(erf_rootfinder, 1)"
   ]
  },
  {
   "cell_type": "code",
   "execution_count": 8,
   "id": "8",
   "metadata": {},
   "outputs": [
    {
     "data": {
      "text/plain": [
       "np.float64(1.043219017512031)"
      ]
     },
     "execution_count": 8,
     "metadata": {},
     "output_type": "execute_result"
    }
   ],
   "source": [
    "sol.x[0]"
   ]
  },
  {
   "cell_type": "code",
   "execution_count": 9,
   "id": "9",
   "metadata": {},
   "outputs": [
    {
     "data": {
      "text/plain": [
       "array([284.3169988 , 284.45100403, 284.59800212, 284.73099772,\n",
       "       284.84599813, 284.94099935, 285.04899343, 285.20399984,\n",
       "       285.36900075, 285.54499563, 285.73899333, 285.9330012 ,\n",
       "       286.10000102, 286.27100118, 286.44200134, 286.61399587,\n",
       "       286.78099823, 286.95500183, 287.10500081, 287.22499847,\n",
       "       287.35499827, 287.49400075, 287.66399638, 287.86000061,\n",
       "       288.06099955, 288.29100291, 288.51999664, 288.75200144,\n",
       "       288.9930013 , 289.22100067, 289.46999868, 289.73699697,\n",
       "       290.01900228, 290.26300049, 290.51199849, 290.79699707,\n",
       "       291.09999593, 291.41399892, 291.76300049, 292.11300151,\n",
       "       292.45799764, 292.81599935, 293.16699982, 293.47699992,\n",
       "       293.79099782, 294.07899729, 294.36499786, 294.64599864,\n",
       "       294.95399984, 295.29999797, 295.67499542, 296.0069987 ,\n",
       "       296.32499949, 296.65399679, 296.95399475, 297.28899638,\n",
       "       297.66199748, 298.09799449, 298.51799011, 298.93599192,\n",
       "       299.37699636, 299.82899221, 300.35299174, 300.90999349,\n",
       "       301.41899109, 301.93698883, 302.48498789, 303.01098887,\n",
       "       303.44898733, 303.81398773, 304.24598694, 304.5999883 ,\n",
       "       304.94498189, 305.27098338, 305.62998454, 305.81298065,\n",
       "       305.95398458, 306.17698669, 306.32897949, 306.49498749,\n",
       "       306.61997732, 306.82198334, 307.09297943, 307.40198008,\n",
       "       307.78498332, 308.22697957, 309.01197306, 309.76397451,\n",
       "       310.29397583, 310.85097504, 311.35697683, 311.81097412,\n",
       "       312.17197673, 312.38997904, 312.4129715 , 312.3849767 ,\n",
       "       312.38997142, 312.48597209, 312.52096812, 312.63197072,\n",
       "       312.82097626, 313.01397196, 313.34197744, 313.72996775,\n",
       "       314.09496816, 314.4149704 , 314.69796753, 314.99196116,\n",
       "       315.34496562, 315.80696615, 316.62496694, 317.29896291,\n",
       "       318.04396311, 318.64996338, 319.33296204, 319.8159612 ,\n",
       "       320.87995656, 321.47995758, 322.38895671, 323.25095622,\n",
       "       324.78295644, 325.39995575, 327.34895325, 329.90895081,\n",
       "       330.75595347, 330.82695516, 331.54494985, 333.35294596,\n",
       "       335.00994873, 336.60494741, 338.70494588, 340.05894979,\n",
       "       340.64394124, 342.26594798, 344.00794729, 345.45895386,\n",
       "       346.90294647, 348.77494558, 351.27593231, 352.89392344,\n",
       "       354.07293193, 355.35293833, 356.22894796, 356.92495982,\n",
       "       358.25395966, 360.23895518, 362.00496165, 363.25195567,\n",
       "       365.93295542, 367.84497833, 369.12497457, 370.67298889,\n",
       "       372.834994  , 375.41099803, 376.98700205, 378.90700785,\n",
       "       381.01000722, 382.60301971, 384.73901876, 386.28002167,\n",
       "       388.71703084, 390.94402059, 393.01599121, 395.72497813,\n",
       "       399.94909922, 399.94909922])"
      ]
     },
     "execution_count": 9,
     "metadata": {},
     "output_type": "execute_result"
    }
   ],
   "source": [
    "co2"
   ]
  },
  {
   "cell_type": "code",
   "execution_count": null,
   "id": "10",
   "metadata": {},
   "outputs": [],
   "source": []
  }
 ],
 "metadata": {
  "kernelspec": {
   "display_name": "fair_virtual_env",
   "language": "python",
   "name": "python3"
  },
  "language_info": {
   "codemirror_mode": {
    "name": "ipython",
    "version": 3
   },
   "file_extension": ".py",
   "mimetype": "text/x-python",
   "name": "python",
   "nbconvert_exporter": "python",
   "pygments_lexer": "ipython3",
   "version": "3.13.3"
  }
 },
 "nbformat": 4,
 "nbformat_minor": 5
}
