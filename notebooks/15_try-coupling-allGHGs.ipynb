{
 "cells": [
  {
   "cell_type": "markdown",
   "id": "0",
   "metadata": {},
   "source": [
    "# Run everything and compare to SSPs"
   ]
  },
  {
   "cell_type": "code",
   "execution_count": null,
   "id": "1",
   "metadata": {},
   "outputs": [],
   "source": [
    "from fair import FAIR\n",
    "from fair.interface import fill, initialise\n",
    "from fair.io import read_properties\n",
    "\n",
    "import numpy as np\n",
    "import matplotlib.pyplot as pl\n",
    "import pandas as pd\n",
    "import pooch"
   ]
  },
  {
   "cell_type": "code",
   "execution_count": null,
   "id": "2",
   "metadata": {},
   "outputs": [],
   "source": [
    "pl.rcParams['figure.figsize'] = (8.7/2.54, 8.7/2.54)\n",
    "pl.rcParams['font.size'] = 7\n",
    "pl.rcParams['font.family'] = 'Arial'\n",
    "pl.rcParams['ytick.direction'] = 'in'\n",
    "pl.rcParams['ytick.minor.visible'] = True\n",
    "pl.rcParams['ytick.major.right'] = True\n",
    "pl.rcParams['ytick.right'] = True\n",
    "pl.rcParams['xtick.direction'] = 'in'\n",
    "pl.rcParams['xtick.minor.visible'] = True\n",
    "pl.rcParams['xtick.major.top'] = True\n",
    "pl.rcParams['xtick.top'] = True\n",
    "pl.rcParams['axes.spines.top'] = True\n",
    "pl.rcParams['axes.spines.bottom'] = True\n",
    "pl.rcParams['figure.dpi'] = 150"
   ]
  },
  {
   "cell_type": "code",
   "execution_count": null,
   "id": "3",
   "metadata": {},
   "outputs": [],
   "source": [
    "scenarios = ['ssp126', 'ssp245', 'ssp370', 'ssp585']\n",
    "runs = [1, 2, 3, 4, 8]"
   ]
  },
  {
   "cell_type": "code",
   "execution_count": null,
   "id": "4",
   "metadata": {},
   "outputs": [],
   "source": [
    "temp_ukesm = np.ones((251, 4, 5)) * np.nan\n",
    "for iscen, scenario in enumerate(scenarios):\n",
    "    for irun, run in enumerate(runs):\n",
    "        temp_ukesm[:165, iscen, irun] = pd.read_csv(f'../data/fredriksen2022/historical/UKESM1-0-LL_historical_r{run}i1p1f2_anomalies.txt', index_col=0)['tas'].values\n",
    "        temp_ukesm[165:, iscen, irun] = pd.read_csv(f'../data/fredriksen2022/{scenario}/UKESM1-0-LL_{scenario}_r{run}i1p1f2_anomalies.txt', index_col=0)['tas'].values"
   ]
  },
  {
   "cell_type": "code",
   "execution_count": null,
   "id": "5",
   "metadata": {},
   "outputs": [],
   "source": [
    "climate_response_df = pd.read_csv('../data/fair-calibrations/4xCO2_energy_balance_ebm3.csv')"
   ]
  },
  {
   "cell_type": "code",
   "execution_count": null,
   "id": "6",
   "metadata": {},
   "outputs": [],
   "source": [
    "natural_forcing_df = pd.read_csv('../data/calibration/natural_forcing.csv', index_col=0)"
   ]
  },
  {
   "cell_type": "code",
   "execution_count": null,
   "id": "7",
   "metadata": {},
   "outputs": [],
   "source": [
    "f = FAIR()"
   ]
  },
  {
   "cell_type": "code",
   "execution_count": null,
   "id": "8",
   "metadata": {},
   "outputs": [],
   "source": [
    "configs = ['UKESM1-0-LL']#, 'hand_tune']\n",
    "species, properties = read_properties(filename='../data/species_configs_properties_vanilla.csv')\n",
    "species.remove('CO2 FFI')      # c-driven run\n",
    "species.remove('CO2 AFOLU')    # c-driven run\n",
    "species.remove('Halon-1202')   # not in CMIP6 list of species\n",
    "species.remove('Contrails')    # not modelled in UKESM, I think\n",
    "species.remove('NOx aviation') # which renders this redundant\n",
    "species.remove('Light absorbing particles on snow and ice')  # I believe not modelled in UKESM\n",
    "del properties['CO2 FFI']\n",
    "del properties['CO2 AFOLU']\n",
    "del properties['Halon-1202']\n",
    "del properties['Contrails']\n",
    "del properties['NOx aviation']\n",
    "del properties['Light absorbing particles on snow and ice']\n",
    "for specie in species:\n",
    "    if properties[specie]['greenhouse_gas']:\n",
    "        properties[specie]['input_mode'] = 'concentration'\n",
    "properties['Land use']['input_mode'] = 'forcing'\n",
    "properties"
   ]
  },
  {
   "cell_type": "code",
   "execution_count": null,
   "id": "9",
   "metadata": {},
   "outputs": [],
   "source": [
    "f.define_time(1850, 2101, 1)\n",
    "f.define_scenarios(scenarios)\n",
    "f.define_configs(configs)\n",
    "f.define_species(species, properties)"
   ]
  },
  {
   "cell_type": "code",
   "execution_count": null,
   "id": "10",
   "metadata": {},
   "outputs": [],
   "source": [
    "f.allocate()"
   ]
  },
  {
   "cell_type": "code",
   "execution_count": null,
   "id": "11",
   "metadata": {},
   "outputs": [],
   "source": [
    "fill(f.climate_configs['ocean_heat_capacity'], climate_response_df.loc[0, 'C1':'C3'])\n",
    "fill(f.climate_configs['ocean_heat_transfer'], climate_response_df.loc[0, 'kappa1':'kappa3'])\n",
    "fill(f.climate_configs['deep_ocean_efficacy'], climate_response_df.loc[0, 'epsilon'])\n",
    "fill(f.climate_configs['gamma_autocorrelation'], climate_response_df.loc[0, 'gamma'])"
   ]
  },
  {
   "cell_type": "code",
   "execution_count": null,
   "id": "12",
   "metadata": {},
   "outputs": [],
   "source": [
    "initialise(f.forcing, 0)\n",
    "initialise(f.temperature, 0)"
   ]
  },
  {
   "cell_type": "code",
   "execution_count": null,
   "id": "13",
   "metadata": {},
   "outputs": [],
   "source": [
    "f.fill_species_configs(filename='../data/species_configs_properties_vanilla.csv')"
   ]
  },
  {
   "cell_type": "code",
   "execution_count": null,
   "id": "14",
   "metadata": {},
   "outputs": [],
   "source": [
    "f.fill_from_rcmip()"
   ]
  },
  {
   "cell_type": "code",
   "execution_count": null,
   "id": "15",
   "metadata": {},
   "outputs": [],
   "source": [
    "landuse_erf = pd.read_csv('../data/calibration/landuse_forcing.csv', index_col=0)\n",
    "f.forcing.loc[dict(specie='Land use')] = landuse_erf.values[:, :, None]"
   ]
  },
  {
   "cell_type": "code",
   "execution_count": null,
   "id": "16",
   "metadata": {},
   "outputs": [],
   "source": [
    "# 1850 baselines\n",
    "# f.emissions.loc[dict(specie='CO2 AFOLU', \n",
    "\n",
    "for specie in ['Sulfur', 'BC', 'OC', 'NOx', 'VOC', 'CO', 'NH3']:\n",
    "    f.species_configs['baseline_emissions'].loc[dict(specie=specie)] = f.emissions.loc[dict(specie=specie, timepoints=1850.5, scenario='ssp245')]\n",
    "\n",
    "for specie in ['CO2', 'CH4', 'N2O', 'CFC-11', 'CFC-12', 'CFC-113', 'CFC-114', 'CFC-115', 'HCFC-22', 'HCFC-141b', 'HCFC-142b',\n",
    "    'CCl4', 'CHCl3', 'CH2Cl2', 'CH3Cl', 'CH3CCl3', 'CH3Br', 'Halon-1211', 'Halon-1301', 'Halon-2402',\n",
    "    'CF4', 'C2F6', 'C3F8', 'c-C4F8', 'C4F10', 'C5F12', 'C6F14', 'C7F16', 'C8F18', 'NF3', 'SF6', 'SO2F2',\n",
    "    'HFC-125', 'HFC-134a', 'HFC-143a', 'HFC-152a', 'HFC-227ea', 'HFC-23', 'HFC-236fa', 'HFC-245fa',\n",
    "    'HFC-32', 'HFC-365mfc', 'HFC-4310mee']:\n",
    "    f.species_configs['baseline_concentration'].loc[dict(specie=specie)] = f.concentration.loc[dict(specie=specie, timebounds=1850, scenario='ssp245')]\n",
    "\n",
    "f.species_configs['baseline_concentration'].loc[dict(specie='Equivalent effective stratospheric chlorine')] = 344.36275911\n",
    "\n",
    "## rebase volcanic to zero mean\n",
    "#f.forcing.loc[dict(specie='Volcanic')] = f.forcing.loc[dict(specie='Volcanic')] - f.forcing.loc[dict(specie='Volcanic', scenario='ssp245', config='UKESM1-0-LL')].mean()\n",
    "\n",
    "# override RCMIP natural forcing\n",
    "fill(f.forcing, np.array(natural_forcing_df.loc[1850:2101, 'solar'])[:, None, None], specie='Solar')\n",
    "fill(f.forcing, np.array(natural_forcing_df.loc[1850:2101, 'volcanic'])[:, None, None], specie='Volcanic')"
   ]
  },
  {
   "cell_type": "code",
   "execution_count": null,
   "id": "17",
   "metadata": {},
   "outputs": [],
   "source": [
    "ods = ['CFC-11', 'CFC-12', 'CFC-113', 'CFC-114', 'CFC-115', 'HCFC-22', 'HCFC-141b', 'HCFC-142b',\n",
    "        'CCl4', 'CHCl3', 'CH2Cl2', 'CH3Cl', 'CH3CCl3', 'CH3Br', 'Halon-1211', 'Halon-1301', 'Halon-2402']\n",
    "\n",
    "hfc = ['CF4', 'C2F6', 'C3F8', 'c-C4F8', 'C4F10', 'C5F12', 'C6F14', 'C7F16', 'C8F18', 'NF3', 'SF6', 'SO2F2',\n",
    "        'HFC-125', 'HFC-134a', 'HFC-143a', 'HFC-152a', 'HFC-227ea', 'HFC-23', 'HFC-236fa', 'HFC-245fa', 'HFC-32',\n",
    "        'HFC-365mfc', 'HFC-4310mee']"
   ]
  },
  {
   "cell_type": "code",
   "execution_count": null,
   "id": "18",
   "metadata": {},
   "outputs": [],
   "source": [
    "# UKESM specific ESM component calibrations: DO NOT MODIFY\n",
    "#f.species_configs['land_use_cumulative_emissions_to_forcing'].loc[dict(specie=\"CO2 AFOLU\")] = -0.0003024895261521421\n",
    "f.species_configs['forcing_scale'].loc[dict(specie=\"CH4\")] = 1.11547955\n",
    "f.species_configs['h2o_stratospheric_factor'].loc[dict(specie=\"CH4\")] = 1.29652705e-01\n",
    "f.species_configs['ozone_radiative_efficiency'].loc[dict(specie=\"CH4\")] = 1.27049657e-04\n",
    "f.species_configs['ozone_radiative_efficiency'].loc[dict(specie=\"Equivalent effective stratospheric chlorine\")] = -0.00029119797470220245\n",
    "f.species_configs['ozone_radiative_efficiency'].loc[dict(specie=\"N2O\")] = 0.0007481397748679878\n",
    "f.species_configs['ozone_radiative_efficiency'].loc[dict(specie=\"VOC\")] = 0.0006596999582126578\n",
    "f.species_configs['ozone_radiative_efficiency'].loc[dict(specie=\"NOx\")] = 0.000984642055228785\n",
    "f.species_configs['forcing_temperature_feedback'].loc[dict(specie=\"Ozone\")] = -0.09693932216231645\n",
    "f.species_configs['forcing_scale'].loc[dict(specie=\"N2O\")] = 1.16044956348451\n",
    "f.species_configs['forcing_scale'].loc[dict(specie=\"CO2\")] = 1.04321901751203\n",
    "\n",
    "for specie in species:\n",
    "    f.species_configs['erfari_radiative_efficiency'].loc[dict(specie=specie)] = 0\n",
    "f.species_configs['erfari_radiative_efficiency'].loc[dict(specie='Sulfur')] = -0.00283793\n",
    "f.species_configs['erfari_radiative_efficiency'].loc[dict(specie='BC')] = 0.01757433\n",
    "f.species_configs['erfari_radiative_efficiency'].loc[dict(specie='OC')] = -0.0028512\n",
    "f.species_configs['erfari_radiative_efficiency'].loc[dict(specie='CH4')] = -5.09377882e-05\n",
    "f.species_configs['aci_scale'].loc[:] = -8.22336280e-01\n",
    "# f.species_configs['aci_scale'].loc[dict(config='UKESM1-0-LL')] = -8.22336281e-01\n",
    "f.species_configs['aci_shape'].loc[dict(specie='Sulfur')] = 3.01888722e-02\n",
    "f.species_configs['aci_shape'].loc[dict(specie='BC')] = 5.07111186e-30\n",
    "f.species_configs['aci_shape'].loc[dict(specie='OC')] = 6.60381587e-16\n",
    "f.species_configs['aci_shape'].loc[dict(specie=\"CH4\")] = -2.61186114e-04\n",
    "\n",
    "for specie in ods:\n",
    "    f.species_configs['forcing_scale'].loc[dict(specie=specie)] = 1.44336634\n",
    "for specie in hfc:\n",
    "    f.species_configs['forcing_scale'].loc[dict(specie=specie)] = 0.25250486\n",
    "    \n",
    "# # this bit you can modify to try and get a better result\n",
    "#######f.species_configs['forcing_efficacy'].loc[dict(config='hand_tune', specie='Aerosol-cloud interactions')] = 1.2\n",
    "# f.species_configs['aci_shape'].loc[dict(specie='Sulfur')] = 0.03110931 * 2\n",
    "# #f.species_configs['forcing_temperature_feedback'].loc[dict(specie=\"Aerosol-radiation interactions\")] = -0.1\n",
    "# f.species_configs['forcing_temperature_feedback'].loc[dict(specie=\"Aerosol-cloud interactions\")] = 0\n",
    "# f.species_configs['forcing_efficacy'].loc[dict(config='efficacy1.1', specie=\"Volcanic\")] = 0.8"
   ]
  },
  {
   "cell_type": "code",
   "execution_count": null,
   "id": "19",
   "metadata": {},
   "outputs": [],
   "source": [
    "f.species_configs['aci_scale']"
   ]
  },
  {
   "cell_type": "code",
   "execution_count": null,
   "id": "20",
   "metadata": {},
   "outputs": [],
   "source": [
    "f.run()"
   ]
  },
  {
   "cell_type": "code",
   "execution_count": null,
   "id": "21",
   "metadata": {},
   "outputs": [],
   "source": [
    "colors = ['#003466', '#f69320', '#df0000', '#980002']\n",
    "pl.plot(np.arange(1850, 2016), f.temperature[:166, 0, 0, 0], color='k')\n",
    "for ens in range(5):\n",
    "    pl.plot(np.arange(1850.5, 2015), temp_ukesm[:165, 0, ens], lw=0.5, color='k', alpha=0.5)\n",
    "for iscen, scenario in enumerate(scenarios):\n",
    "    pl.plot(np.arange(2015, 2102), f.temperature[165:, iscen, 0, 0], color=colors[iscen], label=scenario)\n",
    "    for ens in range(5):\n",
    "        pl.plot(np.arange(2015.5, 2101), temp_ukesm[165:, iscen, ens], lw=0.5, color=colors[iscen], alpha=0.5)\n",
    "pl.text(1860, 4.8, 'Thick lines: FAIR emulation', fontweight='bold')\n",
    "pl.text(1860, 4.3, 'Thin lines: UKESM output')\n",
    "pl.title('UKESM1-0-LL FAIR calibration')\n",
    "pl.ylim(-0.6,7.8)\n",
    "pl.xlim(1850, 2100)\n",
    "pl.legend()\n",
    "pl.ylabel('Global mean surface temperature, °C relative to 1850-1900')\n",
    "pl.savefig('../plots/calibrated_coupled.png')"
   ]
  },
  {
   "cell_type": "code",
   "execution_count": null,
   "id": "22",
   "metadata": {},
   "outputs": [],
   "source": [
    "f.forcing_sum"
   ]
  },
  {
   "cell_type": "code",
   "execution_count": null,
   "id": "23",
   "metadata": {},
   "outputs": [],
   "source": [
    "for iscen, scenario in enumerate(scenarios):\n",
    "    pl.plot(np.arange(1850, 2101), f.temperature[:251, iscen, 0, 0] - temp_ukesm[:, iscen, :].mean(axis=1), color=colors[iscen], label=scenario)\n",
    "pl.axhline(0, ls=\":\", color=\"k\")\n",
    "pl.legend()\n",
    "pl.xlim(1850, 2100)\n",
    "pl.ylim(-0.4, 0.4)\n",
    "pl.ylabel('°C')\n",
    "pl.title('Difference between FAIR and UKESM')"
   ]
  },
  {
   "cell_type": "code",
   "execution_count": null,
   "id": "24",
   "metadata": {},
   "outputs": [],
   "source": [
    "for iscen, scenario in enumerate(scenarios):\n",
    "    pl.plot(np.arange(1850, 2102), f.forcing_sum[:, iscen, :], color=colors[iscen], label=scenario)\n",
    "pl.legend()\n",
    "pl.xlim(1850, 2100)\n",
    "pl.ylim(-2, 9)\n",
    "pl.ylabel('W m$^{-2}$')\n",
    "pl.title('Effective radiative forcing in FAIR calibration')"
   ]
  },
  {
   "cell_type": "code",
   "execution_count": null,
   "id": "25",
   "metadata": {},
   "outputs": [],
   "source": [
    "f.forcing.sel(specie=\"Land use\")"
   ]
  },
  {
   "cell_type": "code",
   "execution_count": null,
   "id": "26",
   "metadata": {},
   "outputs": [],
   "source": [
    "f.concentration.loc[dict(specie='CH4', timebounds=1850, scenario='ssp245')]"
   ]
  },
  {
   "cell_type": "code",
   "execution_count": null,
   "id": "27",
   "metadata": {},
   "outputs": [],
   "source": [
    "f.concentration.loc[dict(specie='CO2', timebounds=1850, scenario='ssp245')]"
   ]
  }
 ],
 "metadata": {
  "kernelspec": {
   "display_name": "Python 3 (ipykernel)",
   "language": "python",
   "name": "python3"
  },
  "language_info": {
   "codemirror_mode": {
    "name": "ipython",
    "version": 3
   },
   "file_extension": ".py",
   "mimetype": "text/x-python",
   "name": "python",
   "nbconvert_exporter": "python",
   "pygments_lexer": "ipython3",
   "version": "3.13.1"
  }
 },
 "nbformat": 4,
 "nbformat_minor": 5
}
