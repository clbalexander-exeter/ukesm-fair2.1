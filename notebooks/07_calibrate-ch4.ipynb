{
 "cells": [
  {
   "cell_type": "markdown",
   "id": "0",
   "metadata": {},
   "source": [
    "# Methane - in UKESM, it's a beast\n",
    "\n",
    "\n",
    "From Fiona's JAMES paper https://agupubs.onlinelibrary.wiley.com/doi/full/10.1029/2022MS002991, the total 1850-2014 ERF from methane is 0.97 W m-2. This is comprised:\n",
    "\n",
    "- +0.54 W m-2 direct forcing\n",
    "- +0.13 W m-2 ozone\n",
    "- +0.07 W m-2 stWV\n",
    "- +0.28 W m-2 ACI\n",
    "- -0.05 W m-2 ARI"
   ]
  },
  {
   "cell_type": "code",
   "execution_count": 1,
   "id": "1",
   "metadata": {},
   "outputs": [
    {
     "name": "stderr",
     "output_type": "stream",
     "text": [
      "/Users/c.l.b.alexander/Documents/FAIR/fair_virtual_env/lib/python3.13/site-packages/tqdm/auto.py:21: TqdmWarning: IProgress not found. Please update jupyter and ipywidgets. See https://ipywidgets.readthedocs.io/en/stable/user_install.html\n",
      "  from .autonotebook import tqdm as notebook_tqdm\n"
     ]
    }
   ],
   "source": [
    "from fair import FAIR\n",
    "from fair.interface import fill, initialise\n",
    "from fair.io import read_properties\n",
    "\n",
    "import matplotlib.pyplot as pl\n",
    "import numpy as np\n",
    "import pandas as pd\n",
    "import pooch\n",
    "from scipy.optimize import root"
   ]
  },
  {
   "cell_type": "code",
   "execution_count": 2,
   "id": "2",
   "metadata": {},
   "outputs": [],
   "source": [
    "climate_response_df = pd.read_csv('../data/fair-calibrations/4xCO2_energy_balance_ebm3.csv')"
   ]
  },
  {
   "cell_type": "code",
   "execution_count": 3,
   "id": "3",
   "metadata": {},
   "outputs": [],
   "source": [
    "f = FAIR(temperature_prescribed=True)"
   ]
  },
  {
   "cell_type": "code",
   "execution_count": 4,
   "id": "4",
   "metadata": {},
   "outputs": [
    {
     "data": {
      "text/plain": [
       "{'CH4': {'type': 'ch4',\n",
       "  'input_mode': 'concentration',\n",
       "  'greenhouse_gas': True,\n",
       "  'aerosol_chemistry_from_emissions': False,\n",
       "  'aerosol_chemistry_from_concentration': True},\n",
       " 'N2O': {'type': 'n2o',\n",
       "  'input_mode': 'concentration',\n",
       "  'greenhouse_gas': True,\n",
       "  'aerosol_chemistry_from_emissions': False,\n",
       "  'aerosol_chemistry_from_concentration': True},\n",
       " 'CO2': {'type': 'co2',\n",
       "  'input_mode': 'concentration',\n",
       "  'greenhouse_gas': True,\n",
       "  'aerosol_chemistry_from_emissions': False,\n",
       "  'aerosol_chemistry_from_concentration': False},\n",
       " 'Equivalent effective stratospheric chlorine': {'type': 'eesc',\n",
       "  'input_mode': 'concentration',\n",
       "  'greenhouse_gas': False,\n",
       "  'aerosol_chemistry_from_emissions': False,\n",
       "  'aerosol_chemistry_from_concentration': True},\n",
       " 'VOC': {'type': 'other slcf',\n",
       "  'input_mode': 'emissions',\n",
       "  'greenhouse_gas': False,\n",
       "  'aerosol_chemistry_from_emissions': True,\n",
       "  'aerosol_chemistry_from_concentration': False},\n",
       " 'NOx': {'type': 'other slcf',\n",
       "  'input_mode': 'emissions',\n",
       "  'greenhouse_gas': False,\n",
       "  'aerosol_chemistry_from_emissions': True,\n",
       "  'aerosol_chemistry_from_concentration': False},\n",
       " 'BC': {'type': 'black carbon',\n",
       "  'input_mode': 'emissions',\n",
       "  'greenhouse_gas': False,\n",
       "  'aerosol_chemistry_from_emissions': True,\n",
       "  'aerosol_chemistry_from_concentration': False},\n",
       " 'OC': {'type': 'organic carbon',\n",
       "  'input_mode': 'emissions',\n",
       "  'greenhouse_gas': False,\n",
       "  'aerosol_chemistry_from_emissions': True,\n",
       "  'aerosol_chemistry_from_concentration': False},\n",
       " 'Sulfur': {'type': 'sulfur',\n",
       "  'input_mode': 'emissions',\n",
       "  'greenhouse_gas': False,\n",
       "  'aerosol_chemistry_from_emissions': True,\n",
       "  'aerosol_chemistry_from_concentration': False},\n",
       " 'Ozone': {'type': 'ozone',\n",
       "  'input_mode': 'calculated',\n",
       "  'greenhouse_gas': False,\n",
       "  'aerosol_chemistry_from_emissions': False,\n",
       "  'aerosol_chemistry_from_concentration': False},\n",
       " 'Stratospheric water vapour': {'type': 'h2o stratospheric',\n",
       "  'input_mode': 'calculated',\n",
       "  'greenhouse_gas': False,\n",
       "  'aerosol_chemistry_from_emissions': False,\n",
       "  'aerosol_chemistry_from_concentration': False},\n",
       " 'Aerosol-radiation interactions': {'type': 'ari',\n",
       "  'input_mode': 'calculated',\n",
       "  'greenhouse_gas': False,\n",
       "  'aerosol_chemistry_from_emissions': False,\n",
       "  'aerosol_chemistry_from_concentration': False},\n",
       " 'Aerosol-cloud interactions': {'type': 'aci',\n",
       "  'input_mode': 'calculated',\n",
       "  'greenhouse_gas': False,\n",
       "  'aerosol_chemistry_from_emissions': False,\n",
       "  'aerosol_chemistry_from_concentration': False}}"
      ]
     },
     "execution_count": 4,
     "metadata": {},
     "output_type": "execute_result"
    }
   ],
   "source": [
    "scenarios = ['ssp245']\n",
    "configs = ['UKESM1-0-LL']\n",
    "species = [\n",
    "    'CH4',\n",
    "    'N2O',\n",
    "    'CO2',\n",
    "    'Equivalent effective stratospheric chlorine',\n",
    "    'VOC',\n",
    "    'NOx',\n",
    "    'BC', \n",
    "    'OC', \n",
    "    'Sulfur', \n",
    "    'Ozone',\n",
    "    'Stratospheric water vapour',\n",
    "    'Aerosol-radiation interactions', \n",
    "    'Aerosol-cloud interactions'\n",
    "]\n",
    "species, properties = read_properties(species=species)\n",
    "# properties = {\n",
    "#     'CH4': {\n",
    "#         'type': 'ch4',\n",
    "#         'input_mode': 'concentration',\n",
    "#         'greenhouse_gas': True,\n",
    "#         'aerosol_chemistry_from_emissions': False,\n",
    "#         'aerosol_chemistry_from_concentration': True,\n",
    "#     }\n",
    "# }\n",
    "properties['CH4']['input_mode'] = 'concentration'\n",
    "properties['N2O']['input_mode'] = 'concentration'\n",
    "properties['CO2']['input_mode'] = 'concentration'\n",
    "properties['Equivalent effective stratospheric chlorine']['input_mode'] = 'concentration'\n",
    "properties"
   ]
  },
  {
   "cell_type": "code",
   "execution_count": 5,
   "id": "5",
   "metadata": {},
   "outputs": [],
   "source": [
    "f.define_time(1850, 2015, 1)\n",
    "f.define_scenarios(scenarios)\n",
    "f.define_configs(configs)\n",
    "f.define_species(species, properties)"
   ]
  },
  {
   "cell_type": "code",
   "execution_count": 6,
   "id": "6",
   "metadata": {},
   "outputs": [],
   "source": [
    "f.allocate()"
   ]
  },
  {
   "cell_type": "code",
   "execution_count": 7,
   "id": "7",
   "metadata": {},
   "outputs": [],
   "source": [
    "fill(f.climate_configs['ocean_heat_capacity'], climate_response_df.loc[0, 'C1':'C3'])\n",
    "fill(f.climate_configs['ocean_heat_transfer'], climate_response_df.loc[0, 'kappa1':'kappa3'])\n",
    "fill(f.climate_configs['deep_ocean_efficacy'], climate_response_df.loc[0, 'epsilon'])\n",
    "fill(f.climate_configs['gamma_autocorrelation'], climate_response_df.loc[0, 'gamma'])"
   ]
  },
  {
   "cell_type": "code",
   "execution_count": 8,
   "id": "8",
   "metadata": {},
   "outputs": [],
   "source": [
    "initialise(f.forcing, 0)\n",
    "initialise(f.temperature, 0)"
   ]
  },
  {
   "cell_type": "code",
   "execution_count": 9,
   "id": "9",
   "metadata": {},
   "outputs": [],
   "source": [
    "#f.fill_species_configs()"
   ]
  },
  {
   "cell_type": "code",
   "execution_count": 10,
   "id": "10",
   "metadata": {},
   "outputs": [],
   "source": [
    "rcmip_emissions_file = pooch.retrieve(\n",
    "    url=\"doi:10.5281/zenodo.4589756/rcmip-emissions-annual-means-v5-1-0.csv\",\n",
    "    known_hash=\"md5:4044106f55ca65b094670e7577eaf9b3\",\n",
    ")\n",
    "emis_df = pd.read_csv(rcmip_emissions_file)"
   ]
  },
  {
   "cell_type": "code",
   "execution_count": 11,
   "id": "11",
   "metadata": {},
   "outputs": [],
   "source": [
    "rcmip_concentration_file = pooch.retrieve(\n",
    "    url=\"doi:10.5281/zenodo.4589756/rcmip-concentrations-annual-means-v5-1-0.csv\",\n",
    "    known_hash=\"md5:0d82c3c3cdd4dd632b2bb9449a5c315f\",\n",
    ")\n",
    "conc_df = pd.read_csv(rcmip_concentration_file)"
   ]
  },
  {
   "cell_type": "code",
   "execution_count": 12,
   "id": "12",
   "metadata": {},
   "outputs": [],
   "source": [
    "bc = emis_df.loc[(emis_df['Scenario']=='historical')&(emis_df['Variable']=='Emissions|BC')&(emis_df['Region']=='World'),'1850'].values[0]\n",
    "oc = emis_df.loc[(emis_df['Scenario']=='historical')&(emis_df['Variable']=='Emissions|OC')&(emis_df['Region']=='World'),'1850'].values[0]\n",
    "so2 = emis_df.loc[(emis_df['Scenario']=='historical')&(emis_df['Variable']=='Emissions|Sulfur')&(emis_df['Region']=='World'),'1850'].values[0]\n",
    "voc = emis_df.loc[(emis_df['Scenario']=='historical')&(emis_df['Variable']=='Emissions|VOC')&(emis_df['Region']=='World'),'1850'].values[0]\n",
    "nox = emis_df.loc[(emis_df['Scenario']=='historical')&(emis_df['Variable']=='Emissions|NOx')&(emis_df['Region']=='World'),'1850'].values[0]\n",
    "\n",
    "co2 = conc_df.loc[(conc_df['Scenario']=='historical')&(conc_df['Variable']=='Atmospheric Concentrations|CO2')&(conc_df['Region']=='World'),'1850'].values[0]\n",
    "n2o = conc_df.loc[(conc_df['Scenario']=='historical')&(conc_df['Variable']=='Atmospheric Concentrations|N2O')&(conc_df['Region']=='World'),'1850'].values[0]\n",
    "ch4 = conc_df.loc[(conc_df['Scenario']=='ssp245')&(conc_df['Variable']=='Atmospheric Concentrations|CH4')&(conc_df['Region']=='World'),'1850':'2015'].values.squeeze()\n",
    "# make 2015 equal to 2014\n",
    "ch4[-1] = ch4[-2]"
   ]
  },
  {
   "cell_type": "code",
   "execution_count": 13,
   "id": "13",
   "metadata": {},
   "outputs": [
    {
     "data": {
      "text/plain": [
       "(np.float64(2.5711244787427185),\n",
       " np.float64(18.22682478664064),\n",
       " np.float64(4.544463775546904),\n",
       " np.float64(66.78304875030415),\n",
       " np.float64(13.456576847229837))"
      ]
     },
     "execution_count": 13,
     "metadata": {},
     "output_type": "execute_result"
    }
   ],
   "source": [
    "bc, oc, so2, voc, nox"
   ]
  },
  {
   "cell_type": "code",
   "execution_count": 14,
   "id": "14",
   "metadata": {},
   "outputs": [],
   "source": [
    "# 1850 baselines\n",
    "f.species_configs['baseline_emissions'].loc[dict(specie='Sulfur')] = so2\n",
    "f.species_configs['baseline_emissions'].loc[dict(specie='BC')] = bc\n",
    "f.species_configs['baseline_emissions'].loc[dict(specie='OC')] = oc\n",
    "f.species_configs['baseline_emissions'].loc[dict(specie='VOC')] = voc\n",
    "f.species_configs['baseline_emissions'].loc[dict(specie='NOx')] = nox\n",
    "\n",
    "f.species_configs['baseline_concentration'].loc[dict(specie='CH4')] = ch4[0]\n",
    "f.species_configs['baseline_concentration'].loc[dict(specie='N2O')] = n2o\n",
    "f.species_configs['baseline_concentration'].loc[dict(specie='CO2')] = co2\n",
    "f.species_configs['baseline_concentration'].loc[dict(specie='Equivalent effective stratospheric chlorine')] = 0"
   ]
  },
  {
   "cell_type": "code",
   "execution_count": 15,
   "id": "15",
   "metadata": {},
   "outputs": [],
   "source": [
    "# fill emissions and concentrations\n",
    "f.emissions.loc[dict(specie='Sulfur')] = so2\n",
    "f.emissions.loc[dict(specie='BC')] = bc\n",
    "f.emissions.loc[dict(specie='OC')] = oc\n",
    "f.emissions.loc[dict(specie='VOC')] = voc\n",
    "f.emissions.loc[dict(specie='NOx')] = nox\n",
    "\n",
    "f.concentration.loc[dict(specie='CH4')] = ch4[:, None, None]\n",
    "f.concentration.loc[dict(specie='N2O')] = n2o\n",
    "f.concentration.loc[dict(specie='CO2')] = co2\n",
    "f.concentration.loc[dict(specie='Equivalent effective stratospheric chlorine')] = 0\n",
    "\n",
    "f.temperature[:] = 0\n",
    "\n",
    "# pre-calibrated for aerosol-only runs from notebook 05: DON'T ADJUST\n",
    "f.species_configs['erfari_radiative_efficiency'].loc[dict(specie='Sulfur')] = -0.00283793\n",
    "f.species_configs['erfari_radiative_efficiency'].loc[dict(specie='BC')] = 0.01757433\n",
    "f.species_configs['erfari_radiative_efficiency'].loc[dict(specie='OC')] = -0.0028512\n",
    "\n",
    "f.species_configs['aci_scale'].loc[dict(config='UKESM1-0-LL')] = -8.22336281e-01\n",
    "f.species_configs['aci_shape'].loc[dict(specie='Sulfur')] = 3.01888722e-02\n",
    "f.species_configs['aci_shape'].loc[dict(specie='BC')] = 5.07111186e-30\n",
    "f.species_configs['aci_shape'].loc[dict(specie='OC')] = 6.60381587e-16"
   ]
  },
  {
   "cell_type": "code",
   "execution_count": 16,
   "id": "16",
   "metadata": {},
   "outputs": [],
   "source": [
    "# iterative tuning\n",
    "target_ch4_ch4 = +0.54\n",
    "target_ch4_o3 = +0.13\n",
    "target_ch4_stwv = +0.07\n",
    "target_ch4_ari = -0.05\n",
    "target_ch4_aci = +0.28"
   ]
  },
  {
   "cell_type": "code",
   "execution_count": 17,
   "id": "17",
   "metadata": {},
   "outputs": [],
   "source": [
    "def erf_rootfinder(x):\n",
    "    ch4_scale, ch4_o3, ch4_stwv, ch4_ari, ch4_aci_shape = x\n",
    "    \n",
    "    f = FAIR(temperature_prescribed=True)\n",
    "    f.define_time(1850, 2015, 1)\n",
    "    f.define_scenarios(scenarios)\n",
    "    f.define_configs(configs)\n",
    "    f.define_species(species, properties)\n",
    "    f.allocate()\n",
    "    fill(f.climate_configs['ocean_heat_capacity'], climate_response_df.loc[0, 'C1':'C3'])\n",
    "    fill(f.climate_configs['ocean_heat_transfer'], climate_response_df.loc[0, 'kappa1':'kappa3'])\n",
    "    fill(f.climate_configs['deep_ocean_efficacy'], climate_response_df.loc[0, 'epsilon'])\n",
    "    fill(f.climate_configs['gamma_autocorrelation'], climate_response_df.loc[0, 'gamma'])\n",
    "    initialise(f.forcing, 0)\n",
    "    initialise(f.temperature, 0)\n",
    "    f.fill_species_configs()\n",
    "    f.species_configs['baseline_emissions'].loc[dict(specie='Sulfur')] = so2\n",
    "    f.species_configs['baseline_emissions'].loc[dict(specie='BC')] = bc\n",
    "    f.species_configs['baseline_emissions'].loc[dict(specie='OC')] = oc\n",
    "    f.species_configs['baseline_emissions'].loc[dict(specie='VOC')] = voc\n",
    "    f.species_configs['baseline_emissions'].loc[dict(specie='NOx')] = nox\n",
    "    f.species_configs['baseline_concentration'].loc[dict(specie='CH4')] = ch4[0]\n",
    "    f.species_configs['baseline_concentration'].loc[dict(specie='N2O')] = n2o\n",
    "    f.species_configs['baseline_concentration'].loc[dict(specie='CO2')] = co2\n",
    "    f.species_configs['baseline_concentration'].loc[dict(specie='Equivalent effective stratospheric chlorine')] = 0\n",
    "    \n",
    "    # fill emissions and concentrations\n",
    "    f.emissions.loc[dict(specie='Sulfur')] = so2\n",
    "    f.emissions.loc[dict(specie='BC')] = bc\n",
    "    f.emissions.loc[dict(specie='OC')] = oc\n",
    "    f.emissions.loc[dict(specie='VOC')] = voc\n",
    "    f.emissions.loc[dict(specie='NOx')] = nox\n",
    "\n",
    "    f.concentration.loc[dict(specie='CH4')] = ch4[:, None, None]\n",
    "    f.concentration.loc[dict(specie='N2O')] = n2o\n",
    "    f.concentration.loc[dict(specie='CO2')] = co2\n",
    "    f.concentration.loc[dict(specie='Equivalent effective stratospheric chlorine')] = 0\n",
    "\n",
    "    f.temperature[:] = 0\n",
    "\n",
    "    # pre-calibrated for aerosol-only runs from notebook 05: DON'T ADJUST\n",
    "    for specie in species:\n",
    "        f.species_configs['erfari_radiative_efficiency'].loc[dict(specie=specie)] = 0\n",
    "    f.species_configs['erfari_radiative_efficiency'].loc[dict(specie='Sulfur')] = -0.00283793\n",
    "    f.species_configs['erfari_radiative_efficiency'].loc[dict(specie='BC')] = 0.01757433\n",
    "    f.species_configs['erfari_radiative_efficiency'].loc[dict(specie='OC')] = -0.0028512\n",
    "\n",
    "    f.species_configs['aci_scale'].loc[dict(config='UKESM1-0-LL')] = -8.22336281e-01\n",
    "    f.species_configs['aci_shape'].loc[dict(specie='Sulfur')] = 3.01888722e-02\n",
    "    f.species_configs['aci_shape'].loc[dict(specie='BC')] = 5.07111186e-30\n",
    "    f.species_configs['aci_shape'].loc[dict(specie='OC')] = 6.60381587e-16\n",
    "    \n",
    "    # these things we want to vary\n",
    "    f.species_configs['forcing_scale'].loc[dict(specie=\"CH4\")] = ch4_scale\n",
    "    f.species_configs['ozone_radiative_efficiency'].loc[dict(specie=\"CH4\")] = ch4_o3\n",
    "    f.species_configs['h2o_stratospheric_factor'].loc[dict(specie=\"CH4\")] = ch4_stwv\n",
    "    f.species_configs['erfari_radiative_efficiency'].loc[dict(specie=\"CH4\")] = ch4_ari\n",
    "    f.species_configs['aci_shape'].loc[dict(specie=\"CH4\")] = ch4_aci_shape\n",
    "    \n",
    "    f.run(progress=False)\n",
    "    f_ch4_ch4 = f.forcing.values[-1,0,0,0] + f.forcing.values[-1,0,0,1]  # include N2O overlap as part of the methane forcing\n",
    "    f_ch4_o3 = f.forcing.values[-1,0,0,9]\n",
    "    f_ch4_stwv = f.forcing.values[-1,0,0,10]\n",
    "    f_ch4_ari = f.forcing.values[-1,0,0,11]\n",
    "    f_ch4_aci = f.forcing.values[-1,0,0,12]\n",
    "    return np.array(\n",
    "        [\n",
    "            f_ch4_ch4 - target_ch4_ch4, \n",
    "            f_ch4_o3 - target_ch4_o3, \n",
    "            f_ch4_stwv - target_ch4_stwv, \n",
    "            f_ch4_ari - target_ch4_ari, \n",
    "            f_ch4_aci - target_ch4_aci, \n",
    "        ]\n",
    "    )"
   ]
  },
  {
   "cell_type": "code",
   "execution_count": 18,
   "id": "18",
   "metadata": {},
   "outputs": [],
   "source": [
    "solution = root(\n",
    "    erf_rootfinder, \n",
    "    np.array(\n",
    "        [\n",
    "            1.11568,\n",
    "            0.00012705,\n",
    "            7/54,\n",
    "            -5.093e-5,\n",
    "            -0.00040355,\n",
    "        ],\n",
    "    ),\n",
    "    method='lm',\n",
    "    options={'maxiter': 500000}\n",
    ")"
   ]
  },
  {
   "cell_type": "code",
   "execution_count": 19,
   "id": "19",
   "metadata": {},
   "outputs": [
    {
     "data": {
      "text/plain": [
       "array([ 1.11547955e+00,  1.27049657e-04,  1.29652705e-01, -5.09377882e-05,\n",
       "       -2.61186113e-04])"
      ]
     },
     "execution_count": 19,
     "metadata": {},
     "output_type": "execute_result"
    }
   ],
   "source": [
    "solution.x"
   ]
  },
  {
   "cell_type": "code",
   "execution_count": 20,
   "id": "20",
   "metadata": {},
   "outputs": [
    {
     "data": {
      "text/plain": [
       "['CH4',\n",
       " 'N2O',\n",
       " 'CO2',\n",
       " 'Equivalent effective stratospheric chlorine',\n",
       " 'VOC',\n",
       " 'NOx',\n",
       " 'BC',\n",
       " 'OC',\n",
       " 'Sulfur',\n",
       " 'Ozone',\n",
       " 'Stratospheric water vapour',\n",
       " 'Aerosol-radiation interactions',\n",
       " 'Aerosol-cloud interactions']"
      ]
     },
     "execution_count": 20,
     "metadata": {},
     "output_type": "execute_result"
    }
   ],
   "source": [
    "species\n",
    "# Tunings to use in full calibration:\n",
    "# ch4 1.11547955e+00\n",
    "# o3 1.27049657e-04\n",
    "# h2o 1.29652705e-01\n",
    "# erfari -5.09377882e-05\n",
    "# erfaci -2.61186113e-04"
   ]
  }
 ],
 "metadata": {
  "kernelspec": {
   "display_name": "fair_virtual_env",
   "language": "python",
   "name": "python3"
  },
  "language_info": {
   "codemirror_mode": {
    "name": "ipython",
    "version": 3
   },
   "file_extension": ".py",
   "mimetype": "text/x-python",
   "name": "python",
   "nbconvert_exporter": "python",
   "pygments_lexer": "ipython3",
   "version": "3.13.3"
  }
 },
 "nbformat": 4,
 "nbformat_minor": 5
}
