{
 "cells": [
  {
   "cell_type": "markdown",
   "id": "0",
   "metadata": {},
   "source": [
    "# Calibrate aerosol forcing\n",
    "\n",
    "Rather than take the individual forcers, we'll take the Smith et al. (2021) approach of curve fitting precursors."
   ]
  },
  {
   "cell_type": "code",
   "execution_count": 1,
   "id": "1",
   "metadata": {},
   "outputs": [
    {
     "name": "stderr",
     "output_type": "stream",
     "text": [
      "/Users/c.l.b.alexander/Documents/FAIR/fair_virtual_env/lib/python3.13/site-packages/tqdm/auto.py:21: TqdmWarning: IProgress not found. Please update jupyter and ipywidgets. See https://ipywidgets.readthedocs.io/en/stable/user_install.html\n",
      "  from .autonotebook import tqdm as notebook_tqdm\n"
     ]
    }
   ],
   "source": [
    "from fair import FAIR\n",
    "from fair.interface import fill, initialise\n",
    "from fair.io import read_properties\n",
    "\n",
    "import matplotlib.pyplot as pl\n",
    "import pandas as pd\n",
    "import pooch\n",
    "import numpy as np\n",
    "from scipy.optimize import curve_fit"
   ]
  },
  {
   "cell_type": "code",
   "execution_count": 2,
   "id": "2",
   "metadata": {},
   "outputs": [],
   "source": [
    "climate_response_df = pd.read_csv('../data/fair-calibrations/4xCO2_energy_balance_ebm3.csv')"
   ]
  },
  {
   "cell_type": "code",
   "execution_count": 3,
   "id": "3",
   "metadata": {},
   "outputs": [
    {
     "data": {
      "application/vnd.microsoft.datawrangler.viewer.v0+json": {
       "columns": [
        {
         "name": "index",
         "rawType": "int64",
         "type": "integer"
        },
        {
         "name": "model",
         "rawType": "object",
         "type": "string"
        },
        {
         "name": "run",
         "rawType": "object",
         "type": "string"
        },
        {
         "name": "gamma",
         "rawType": "float64",
         "type": "float"
        },
        {
         "name": "C1",
         "rawType": "float64",
         "type": "float"
        },
        {
         "name": "C2",
         "rawType": "float64",
         "type": "float"
        },
        {
         "name": "C3",
         "rawType": "float64",
         "type": "float"
        },
        {
         "name": "kappa1",
         "rawType": "float64",
         "type": "float"
        },
        {
         "name": "kappa2",
         "rawType": "float64",
         "type": "float"
        },
        {
         "name": "kappa3",
         "rawType": "float64",
         "type": "float"
        },
        {
         "name": "epsilon",
         "rawType": "float64",
         "type": "float"
        },
        {
         "name": "sigma_eta",
         "rawType": "float64",
         "type": "float"
        },
        {
         "name": "sigma_xi",
         "rawType": "float64",
         "type": "float"
        },
        {
         "name": "F_4xCO2",
         "rawType": "float64",
         "type": "float"
        }
       ],
       "ref": "ab2e7506-cc8c-45d0-8fa3-b697fa250616",
       "rows": [
        [
         "0",
         "UKESM1-0-LL",
         "r1i1p1f2",
         "3.548407499",
         "2.917300055",
         "11.28317472",
         "73.2487238",
         "0.65576633",
         "2.597877675",
         "0.612933889",
         "1.133708775",
         "0.497438603",
         "0.439133746",
         "7.378788155"
        ]
       ],
       "shape": {
        "columns": 13,
        "rows": 1
       }
      },
      "text/html": [
       "<div>\n",
       "<style scoped>\n",
       "    .dataframe tbody tr th:only-of-type {\n",
       "        vertical-align: middle;\n",
       "    }\n",
       "\n",
       "    .dataframe tbody tr th {\n",
       "        vertical-align: top;\n",
       "    }\n",
       "\n",
       "    .dataframe thead th {\n",
       "        text-align: right;\n",
       "    }\n",
       "</style>\n",
       "<table border=\"1\" class=\"dataframe\">\n",
       "  <thead>\n",
       "    <tr style=\"text-align: right;\">\n",
       "      <th></th>\n",
       "      <th>model</th>\n",
       "      <th>run</th>\n",
       "      <th>gamma</th>\n",
       "      <th>C1</th>\n",
       "      <th>C2</th>\n",
       "      <th>C3</th>\n",
       "      <th>kappa1</th>\n",
       "      <th>kappa2</th>\n",
       "      <th>kappa3</th>\n",
       "      <th>epsilon</th>\n",
       "      <th>sigma_eta</th>\n",
       "      <th>sigma_xi</th>\n",
       "      <th>F_4xCO2</th>\n",
       "    </tr>\n",
       "  </thead>\n",
       "  <tbody>\n",
       "    <tr>\n",
       "      <th>0</th>\n",
       "      <td>UKESM1-0-LL</td>\n",
       "      <td>r1i1p1f2</td>\n",
       "      <td>3.548407</td>\n",
       "      <td>2.9173</td>\n",
       "      <td>11.283175</td>\n",
       "      <td>73.248724</td>\n",
       "      <td>0.655766</td>\n",
       "      <td>2.597878</td>\n",
       "      <td>0.612934</td>\n",
       "      <td>1.133709</td>\n",
       "      <td>0.497439</td>\n",
       "      <td>0.439134</td>\n",
       "      <td>7.378788</td>\n",
       "    </tr>\n",
       "  </tbody>\n",
       "</table>\n",
       "</div>"
      ],
      "text/plain": [
       "         model       run     gamma      C1         C2         C3    kappa1  \\\n",
       "0  UKESM1-0-LL  r1i1p1f2  3.548407  2.9173  11.283175  73.248724  0.655766   \n",
       "\n",
       "     kappa2    kappa3   epsilon  sigma_eta  sigma_xi   F_4xCO2  \n",
       "0  2.597878  0.612934  1.133709   0.497439  0.439134  7.378788  "
      ]
     },
     "execution_count": 3,
     "metadata": {},
     "output_type": "execute_result"
    }
   ],
   "source": [
    "climate_response_df"
   ]
  },
  {
   "cell_type": "code",
   "execution_count": 4,
   "id": "4",
   "metadata": {},
   "outputs": [],
   "source": [
    "aerosol_df = pd.read_csv('../data/smith2023/ukesm_ghan2013_aerosol_forcing.csv', index_col=0)"
   ]
  },
  {
   "cell_type": "code",
   "execution_count": 5,
   "id": "5",
   "metadata": {},
   "outputs": [],
   "source": [
    "erfari = aerosol_df['ERFari']"
   ]
  },
  {
   "cell_type": "code",
   "execution_count": 6,
   "id": "6",
   "metadata": {},
   "outputs": [],
   "source": [
    "erfaci = aerosol_df['ERFaci']"
   ]
  },
  {
   "cell_type": "code",
   "execution_count": 7,
   "id": "7",
   "metadata": {},
   "outputs": [],
   "source": [
    "scenarios = ['ssp245']\n",
    "configs = ['UKESM1-0-LL']\n",
    "species = ['BC', 'OC', 'Sulfur', 'Aerosol-cloud interactions']\n",
    "species, properties = read_properties(species=species)"
   ]
  },
  {
   "cell_type": "code",
   "execution_count": 8,
   "id": "8",
   "metadata": {},
   "outputs": [],
   "source": [
    "rcmip_emissions_file = pooch.retrieve(\n",
    "    url=\"doi:10.5281/zenodo.4589756/rcmip-emissions-annual-means-v5-1-0.csv\",\n",
    "    known_hash=\"md5:4044106f55ca65b094670e7577eaf9b3\",\n",
    ")\n",
    "emis_df = pd.read_csv(rcmip_emissions_file)"
   ]
  },
  {
   "cell_type": "code",
   "execution_count": 9,
   "id": "9",
   "metadata": {},
   "outputs": [],
   "source": [
    "bc = emis_df.loc[(emis_df['Scenario']=='historical')&(emis_df['Variable']=='Emissions|BC')&(emis_df['Region']=='World'),'1850':'2014'].values.squeeze()\n",
    "oc = emis_df.loc[(emis_df['Scenario']=='historical')&(emis_df['Variable']=='Emissions|OC')&(emis_df['Region']=='World'),'1850':'2014'].values.squeeze()\n",
    "so2 = emis_df.loc[(emis_df['Scenario']=='historical')&(emis_df['Variable']=='Emissions|Sulfur')&(emis_df['Region']=='World'),'1850':'2014'].values.squeeze()"
   ]
  },
  {
   "cell_type": "code",
   "execution_count": 10,
   "id": "10",
   "metadata": {},
   "outputs": [],
   "source": [
    "def erfaci_rootfinder(x, shape_so2, shape_bc, shape_oc, beta):\n",
    "    f = FAIR(temperature_prescribed=True)\n",
    "    f.define_time(1850, 2015, 1)\n",
    "    f.define_scenarios(scenarios)\n",
    "    f.define_configs(configs)\n",
    "    f.define_species(species, properties)\n",
    "    f.allocate()\n",
    "    fill(f.climate_configs['ocean_heat_capacity'], climate_response_df.loc[0, 'C1':'C3'])\n",
    "    fill(f.climate_configs['ocean_heat_transfer'], climate_response_df.loc[0, 'kappa1':'kappa3'])\n",
    "    fill(f.climate_configs['deep_ocean_efficacy'], climate_response_df.loc[0, 'epsilon'])\n",
    "    fill(f.climate_configs['gamma_autocorrelation'], climate_response_df.loc[0, 'gamma'])\n",
    "    initialise(f.forcing, 0)\n",
    "    initialise(f.temperature, 0)\n",
    "    f.fill_species_configs(filename='../data/species_configs_properties_vanilla.csv')\n",
    "    f.species_configs['baseline_emissions'].loc[dict(specie='Sulfur')] = 4.5444637755469\n",
    "    f.species_configs['baseline_emissions'].loc[dict(specie='BC')] = 2.57112447874271\n",
    "    f.species_configs['baseline_emissions'].loc[dict(specie='OC')] = 18.2268247866406\n",
    "    \n",
    "    # fill emissions and concentrations\n",
    "    f.emissions.loc[dict(specie='Sulfur')] = x[0][:,None,None]\n",
    "    f.emissions.loc[dict(specie='BC')] = x[1][:,None,None]\n",
    "    f.emissions.loc[dict(specie='OC')] = x[2][:,None,None]\n",
    "\n",
    "    f.temperature[:] = 0\n",
    "\n",
    "    # these things we want to vary\n",
    "#    f.species_configs['erfari_radiative_efficiency'].loc[dict(specie='Sulfur')] = alpha_so2\n",
    "#    f.species_configs['erfari_radiative_efficiency'].loc[dict(specie='BC')] = alpha_bc\n",
    "#    f.species_configs['erfari_radiative_efficiency'].loc[dict(specie='OC')] = alpha_oc\n",
    "    f.species_configs['aci_shape'].loc[dict(specie='Sulfur')] = shape_so2\n",
    "    f.species_configs['aci_shape'].loc[dict(specie='BC')] = shape_bc\n",
    "    f.species_configs['aci_shape'].loc[dict(specie='OC')] = shape_oc\n",
    "    f.species_configs['aci_scale'].loc[dict(config='UKESM1-0-LL')] = beta\n",
    "    \n",
    "    f.run(progress=False)\n",
    "    out = 0.5*(f.forcing.values[1:, 0, 0, 3] + f.forcing.values[:-1, 0, 0, 3])\n",
    "    return out"
   ]
  },
  {
   "cell_type": "code",
   "execution_count": 11,
   "id": "11",
   "metadata": {},
   "outputs": [],
   "source": [
    "solution = curve_fit(erfaci_rootfinder, [so2, bc, oc], erfaci, bounds=((0, 0, 0, -np.inf), (np.inf, np.inf, np.inf, np.inf)))"
   ]
  },
  {
   "cell_type": "code",
   "execution_count": 12,
   "id": "12",
   "metadata": {},
   "outputs": [
    {
     "data": {
      "text/plain": [
       "(array([ 3.01888730e-02,  1.56370423e-29,  6.55048144e-16, -8.22336269e-01]),\n",
       " array([[ 0.00076965, -0.00535939,  0.00178455,  0.00173151],\n",
       "        [-0.00535939,  0.05052942, -0.01403209, -0.00803404],\n",
       "        [ 0.00178455, -0.01403209,  0.00446642,  0.0026748 ],\n",
       "        [ 0.00173151, -0.00803404,  0.0026748 ,  0.01071309]]))"
      ]
     },
     "execution_count": 12,
     "metadata": {},
     "output_type": "execute_result"
    }
   ],
   "source": [
    "solution"
   ]
  },
  {
   "cell_type": "code",
   "execution_count": 13,
   "id": "13",
   "metadata": {},
   "outputs": [],
   "source": [
    "species = ['BC', 'OC', 'Sulfur', 'Aerosol-radiation interactions']\n",
    "species, properties = read_properties(species=species)\n",
    "\n",
    "def erfari_rootfinder(x, alpha_so2, alpha_bc, alpha_oc):\n",
    "    f = FAIR(temperature_prescribed=True)\n",
    "    f.define_time(1850, 2015, 1)\n",
    "    f.define_scenarios(scenarios)\n",
    "    f.define_configs(configs)\n",
    "    f.define_species(species, properties)\n",
    "    f.allocate()\n",
    "    fill(f.climate_configs['ocean_heat_capacity'], climate_response_df.loc[0, 'C1':'C3'])\n",
    "    fill(f.climate_configs['ocean_heat_transfer'], climate_response_df.loc[0, 'kappa1':'kappa3'])\n",
    "    fill(f.climate_configs['deep_ocean_efficacy'], climate_response_df.loc[0, 'epsilon'])\n",
    "    fill(f.climate_configs['gamma_autocorrelation'], climate_response_df.loc[0, 'gamma'])\n",
    "    initialise(f.forcing, 0)\n",
    "    initialise(f.temperature, 0)\n",
    "    f.fill_species_configs(filename='../data/species_configs_properties_vanilla.csv')\n",
    "    f.species_configs['baseline_emissions'].loc[dict(specie='Sulfur')] = 4.5444637755469\n",
    "    f.species_configs['baseline_emissions'].loc[dict(specie='BC')] = 2.57112447874271\n",
    "    f.species_configs['baseline_emissions'].loc[dict(specie='OC')] = 18.2268247866406\n",
    "    \n",
    "    # fill emissions and concentrations\n",
    "    f.emissions.loc[dict(specie='Sulfur')] = x[0][:,None,None]\n",
    "    f.emissions.loc[dict(specie='BC')] = x[1][:,None,None]\n",
    "    f.emissions.loc[dict(specie='OC')] = x[2][:,None,None]\n",
    "\n",
    "    f.temperature[:] = 0\n",
    "\n",
    "    # these things we want to vary\n",
    "    f.species_configs['erfari_radiative_efficiency'].loc[dict(specie='Sulfur')] = alpha_so2\n",
    "    f.species_configs['erfari_radiative_efficiency'].loc[dict(specie='BC')] = alpha_bc\n",
    "    f.species_configs['erfari_radiative_efficiency'].loc[dict(specie='OC')] = alpha_oc\n",
    "    \n",
    "    f.run(progress=False)\n",
    "    out = 0.5*(f.forcing.values[1:, 0, 0, 3] + f.forcing.values[:-1, 0, 0, 3])\n",
    "    return out"
   ]
  },
  {
   "cell_type": "code",
   "execution_count": 14,
   "id": "14",
   "metadata": {},
   "outputs": [],
   "source": [
    "solution = curve_fit(erfari_rootfinder, [so2, bc, oc], erfari)"
   ]
  },
  {
   "cell_type": "code",
   "execution_count": 15,
   "id": "15",
   "metadata": {},
   "outputs": [
    {
     "data": {
      "text/plain": [
       "(array([-0.00283793,  0.01757432, -0.0028512 ]),\n",
       " array([[ 4.48943823e-08, -2.14043912e-06,  4.98410270e-07],\n",
       "        [-2.14043912e-06,  1.33037331e-04, -3.77464525e-05],\n",
       "        [ 4.98410270e-07, -3.77464525e-05,  1.20890418e-05]]))"
      ]
     },
     "execution_count": 15,
     "metadata": {},
     "output_type": "execute_result"
    }
   ],
   "source": [
    "solution"
   ]
  }
 ],
 "metadata": {
  "kernelspec": {
   "display_name": "fair_virtual_env",
   "language": "python",
   "name": "python3"
  },
  "language_info": {
   "codemirror_mode": {
    "name": "ipython",
    "version": 3
   },
   "file_extension": ".py",
   "mimetype": "text/x-python",
   "name": "python",
   "nbconvert_exporter": "python",
   "pygments_lexer": "ipython3",
   "version": "3.13.3"
  }
 },
 "nbformat": 4,
 "nbformat_minor": 5
}
