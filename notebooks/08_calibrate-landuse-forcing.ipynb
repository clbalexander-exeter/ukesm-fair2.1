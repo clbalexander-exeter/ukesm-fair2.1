{
 "cells": [
  {
   "cell_type": "markdown",
   "id": "0",
   "metadata": {},
   "source": [
    "# Land-use forcing\n",
    "\n",
    "Smith et al. 2020:\n",
    "\n",
    "- 2014 - 1850 land use forcing of -0.18 W m-2\n",
    "\n",
    "The time series that scales with AFOLU is our best bet."
   ]
  },
  {
   "cell_type": "code",
   "execution_count": null,
   "id": "1",
   "metadata": {},
   "outputs": [],
   "source": [
    "import os\n",
    "\n",
    "from fair import FAIR\n",
    "from fair.interface import fill, initialise\n",
    "from fair.io import read_properties\n",
    "from scipy.optimize import root\n",
    "\n",
    "import numpy as np\n",
    "import matplotlib.pyplot as pl\n",
    "import pandas as pd\n",
    "import pooch"
   ]
  },
  {
   "cell_type": "code",
   "execution_count": null,
   "id": "2",
   "metadata": {},
   "outputs": [],
   "source": [
    "climate_response_df = pd.read_csv('../data/fair-calibrations/4xCO2_energy_balance_ebm3.csv')"
   ]
  },
  {
   "cell_type": "code",
   "execution_count": null,
   "id": "3",
   "metadata": {},
   "outputs": [],
   "source": [
    "target_forcing = -0.18\n",
    "\n",
    "scenarios = ['ssp126', 'ssp245', 'ssp370', 'ssp585']\n",
    "configs = ['UKESM1-0-LL']\n",
    "species = ['CO2 AFOLU', 'Land use']"
   ]
  },
  {
   "cell_type": "code",
   "execution_count": null,
   "id": "4",
   "metadata": {},
   "outputs": [],
   "source": [
    "def erf_rootfinder(x):\n",
    "    f = FAIR()\n",
    "    f.define_time(1850, 2101, 1)\n",
    "    f.define_scenarios(scenarios)\n",
    "    f.define_configs(configs)\n",
    "    f.define_species(*read_properties(species=species, filename='../data/species_configs_properties_vanilla.csv'))\n",
    "    f.allocate()\n",
    "    f.fill_from_rcmip()\n",
    "#    f.fill_species_configs()\n",
    "    fill(f.climate_configs['ocean_heat_capacity'], climate_response_df.loc[0, 'C1':'C3'])\n",
    "    fill(f.climate_configs['ocean_heat_transfer'], climate_response_df.loc[0, 'kappa1':'kappa3'])\n",
    "    fill(f.climate_configs['deep_ocean_efficacy'], climate_response_df.loc[0, 'epsilon'])\n",
    "    fill(f.climate_configs['gamma_autocorrelation'], climate_response_df.loc[0, 'gamma'])\n",
    "    fill(f.species_configs['land_use_cumulative_emissions_to_forcing'], x, specie='CO2 AFOLU')\n",
    "    initialise(f.forcing, 0)\n",
    "    initialise(f.temperature, 0)\n",
    "    initialise(f.cumulative_emissions, 0)  # necessary\n",
    "    f.run(progress=False)\n",
    "    return f.forcing[165, 0, 0, 1] - target_forcing"
   ]
  },
  {
   "cell_type": "code",
   "execution_count": null,
   "id": "5",
   "metadata": {},
   "outputs": [],
   "source": [
    "sol = root(erf_rootfinder, -0.006)"
   ]
  },
  {
   "cell_type": "code",
   "execution_count": null,
   "id": "6",
   "metadata": {},
   "outputs": [],
   "source": [
    "sol.x[0]"
   ]
  },
  {
   "cell_type": "code",
   "execution_count": null,
   "id": "7",
   "metadata": {},
   "outputs": [],
   "source": [
    "f = FAIR()\n",
    "f.define_time(1850, 2101, 1)\n",
    "f.define_scenarios(scenarios)\n",
    "f.define_configs(configs)\n",
    "f.define_species(*read_properties(species=species, filename='../data/species_configs_properties_vanilla.csv'))\n",
    "f.allocate()\n",
    "f.fill_from_rcmip()\n",
    "#    f.fill_species_configs()\n",
    "fill(f.climate_configs['ocean_heat_capacity'], climate_response_df.loc[0, 'C1':'C3'])\n",
    "fill(f.climate_configs['ocean_heat_transfer'], climate_response_df.loc[0, 'kappa1':'kappa3'])\n",
    "fill(f.climate_configs['deep_ocean_efficacy'], climate_response_df.loc[0, 'epsilon'])\n",
    "fill(f.climate_configs['gamma_autocorrelation'], climate_response_df.loc[0, 'gamma'])\n",
    "fill(f.species_configs['land_use_cumulative_emissions_to_forcing'], sol.x[0], specie='CO2 AFOLU')\n",
    "initialise(f.forcing, 0)\n",
    "initialise(f.temperature, 0)\n",
    "initialise(f.cumulative_emissions, 0)  # necessary\n",
    "f.run()"
   ]
  },
  {
   "cell_type": "code",
   "execution_count": null,
   "id": "8",
   "metadata": {},
   "outputs": [],
   "source": [
    "f.forcing[:,:,0,-1]"
   ]
  },
  {
   "cell_type": "code",
   "execution_count": null,
   "id": "9",
   "metadata": {},
   "outputs": [],
   "source": [
    "os.makedirs('../data/calibration/', exist_ok=True)"
   ]
  },
  {
   "cell_type": "code",
   "execution_count": null,
   "id": "10",
   "metadata": {},
   "outputs": [],
   "source": [
    "landuse_erf = f.forcing[:,:,0,-1].to_pandas()\n",
    "# landuse_erf.name = 'landuse_erf'\n",
    "landuse_erf.to_csv('../data/calibration/landuse_forcing.csv')"
   ]
  },
  {
   "cell_type": "code",
   "execution_count": null,
   "id": "11",
   "metadata": {},
   "outputs": [],
   "source": [
    "# landuse_erf"
   ]
  },
  {
   "cell_type": "code",
   "execution_count": null,
   "id": "12",
   "metadata": {},
   "outputs": [],
   "source": []
  }
 ],
 "metadata": {
  "kernelspec": {
   "display_name": "Python 3 (ipykernel)",
   "language": "python",
   "name": "python3"
  },
  "language_info": {
   "codemirror_mode": {
    "name": "ipython",
    "version": 3
   },
   "file_extension": ".py",
   "mimetype": "text/x-python",
   "name": "python",
   "nbconvert_exporter": "python",
   "pygments_lexer": "ipython3",
   "version": "3.13.1"
  }
 },
 "nbformat": 4,
 "nbformat_minor": 5
}
