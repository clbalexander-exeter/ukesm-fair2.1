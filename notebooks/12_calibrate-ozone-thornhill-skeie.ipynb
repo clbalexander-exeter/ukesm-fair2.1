{
 "cells": [
  {
   "cell_type": "markdown",
   "id": "0",
   "metadata": {},
   "source": [
    "# Ozone forcing\n",
    "\n",
    "\n",
    "Skeie et al. 2021:\n",
    "\n",
    "- time series of all depleters, warming included\n",
    "\n",
    "Individual contributions to present day ozone forcing (estimated from figure 7, Thornhill et al 2021) with no climate contribution:\n",
    "\n",
    "- N2O +0.04\n",
    "- VOC +0.11\n",
    "- NOx +0.14\n",
    "- CH4 +0.17  (O'Connor et al. says +0.13 or +0.20 depending on method; we use +0.13)\n",
    "- HC  -0.33\n",
    "- climate -0.079 W/m2/K  (table 14 other Thornhill paper)\n",
    "- sum +0.13  (without climate feedack)  (+0.09 with pre-calibrated methane from O'Connor which does not include climate feedback either)\n",
    "- sum +0.05  (with climate feedback assuming +1.0K 1850-2014; +0.01 if assume O'Connor)\n",
    "\n",
    "This falls a little short, possibly the use of the ozone radiative kernel means that estimates are not perfect in either Skeie or Thornhill x 2, or that there is some additional non-linearity that kicks into the estimates.\n",
    "\n",
    "**Possible effect of ACI from ozone: drove a stronger negative forcing than expected - can we fit the residual?**\n",
    "\n",
    "**look at histSST-piO3 and fit the time series to emissions of NOx, VOC and CO**"
   ]
  },
  {
   "cell_type": "code",
   "execution_count": null,
   "id": "1",
   "metadata": {},
   "outputs": [],
   "source": [
    "from fair import FAIR\n",
    "from fair.interface import fill, initialise\n",
    "from fair.io import read_properties\n",
    "\n",
    "import numpy as np\n",
    "import matplotlib.pyplot as pl\n",
    "import pandas as pd\n",
    "import pooch\n",
    "from scipy.interpolate import interp1d\n",
    "from scipy.optimize import curve_fit"
   ]
  },
  {
   "cell_type": "code",
   "execution_count": null,
   "id": "2",
   "metadata": {},
   "outputs": [],
   "source": [
    "st_df = pd.read_csv('../data/skeie2020/skeie_ozone_strat.csv', index_col=\"Model\")\n",
    "tr_df = pd.read_csv('../data/skeie2020/skeie_ozone_trop.csv', index_col=\"Model\")"
   ]
  },
  {
   "cell_type": "code",
   "execution_count": null,
   "id": "3",
   "metadata": {},
   "outputs": [],
   "source": [
    "# Skeie uses 10 year averages: 1920 is 1916-1925 up to 2000. 2007 is 2003-2012. 2010 is 2005-2014.\n",
    "o3_ukesm = st_df.loc['UKESM1-0-LL'] + tr_df.loc['UKESM1-0-LL']\n",
    "pl.plot(o3_ukesm)"
   ]
  },
  {
   "cell_type": "code",
   "execution_count": null,
   "id": "4",
   "metadata": {},
   "outputs": [],
   "source": [
    "temp_ukesm = np.ones((165, 19)) * np.nan\n",
    "for run in range(19):\n",
    "    try:\n",
    "        temp_ukesm[:, run] = pd.read_csv('../data/fredriksen2022/historical/UKESM1-0-LL_historical_r%di1p1f2_anomalies.txt' %(run+1), index_col=0)['tas'].values\n",
    "    except FileNotFoundError:\n",
    "        pass"
   ]
  },
  {
   "cell_type": "code",
   "execution_count": null,
   "id": "5",
   "metadata": {},
   "outputs": [],
   "source": [
    "pl.plot(temp_ukesm);\n",
    "temp_ukesm_mean = np.nanmean(temp_ukesm, axis=1)\n",
    "pl.plot(temp_ukesm_mean, color='k')"
   ]
  },
  {
   "cell_type": "code",
   "execution_count": null,
   "id": "6",
   "metadata": {},
   "outputs": [],
   "source": [
    "climate_response_df = pd.read_csv('../data/fair-calibrations/4xCO2_energy_balance_ebm3.csv')"
   ]
  },
  {
   "cell_type": "code",
   "execution_count": null,
   "id": "7",
   "metadata": {},
   "outputs": [],
   "source": [
    "natural_forcing_df = pd.read_csv('../data/calibration/natural_forcing.csv', index_col=0)"
   ]
  },
  {
   "cell_type": "code",
   "execution_count": null,
   "id": "8",
   "metadata": {},
   "outputs": [],
   "source": [
    "f = FAIR(temperature_prescribed=True)"
   ]
  },
  {
   "cell_type": "code",
   "execution_count": null,
   "id": "9",
   "metadata": {},
   "outputs": [],
   "source": [
    "scenarios = ['ssp245']\n",
    "configs = ['UKESM1-0-LL']\n",
    "species, properties = read_properties(filename='../data/species_configs_properties_vanilla.csv')\n",
    "species.remove('CO2 FFI')      # c-driven run\n",
    "species.remove('CO2 AFOLU')    # c-driven run\n",
    "species.remove('Halon-1202')   # not in CMIP6 list of species\n",
    "species.remove('Contrails')    # not modelled in UKESM, I think\n",
    "species.remove('NOx aviation') # which renders this redundant\n",
    "species.remove('Light absorbing particles on snow and ice')  # I believe not modelled in UKESM\n",
    "del properties['CO2 FFI']\n",
    "del properties['CO2 AFOLU']\n",
    "del properties['Halon-1202']\n",
    "del properties['Contrails']\n",
    "del properties['NOx aviation']\n",
    "del properties['Light absorbing particles on snow and ice']\n",
    "for specie in species:\n",
    "    if properties[specie]['greenhouse_gas']:\n",
    "        properties[specie]['input_mode'] = 'concentration'\n",
    "properties['Land use']['input_mode'] = 'forcing'"
   ]
  },
  {
   "cell_type": "code",
   "execution_count": null,
   "id": "10",
   "metadata": {},
   "outputs": [],
   "source": [
    "f.define_time(1850, 2015, 1)\n",
    "f.define_scenarios(scenarios)\n",
    "f.define_configs(configs)\n",
    "f.define_species(species, properties)"
   ]
  },
  {
   "cell_type": "code",
   "execution_count": null,
   "id": "11",
   "metadata": {},
   "outputs": [],
   "source": [
    "f.allocate()"
   ]
  },
  {
   "cell_type": "code",
   "execution_count": null,
   "id": "12",
   "metadata": {},
   "outputs": [],
   "source": [
    "fill(f.climate_configs['ocean_heat_capacity'], climate_response_df.loc[0, 'C1':'C3'])\n",
    "fill(f.climate_configs['ocean_heat_transfer'], climate_response_df.loc[0, 'kappa1':'kappa3'])\n",
    "fill(f.climate_configs['deep_ocean_efficacy'], climate_response_df.loc[0, 'epsilon'])\n",
    "fill(f.climate_configs['gamma_autocorrelation'], climate_response_df.loc[0, 'gamma'])"
   ]
  },
  {
   "cell_type": "code",
   "execution_count": null,
   "id": "13",
   "metadata": {},
   "outputs": [],
   "source": [
    "initialise(f.forcing, 0)\n",
    "initialise(f.temperature, 0)"
   ]
  },
  {
   "cell_type": "code",
   "execution_count": null,
   "id": "14",
   "metadata": {},
   "outputs": [],
   "source": [
    "f.fill_species_configs(filename='../data/species_configs_properties_vanilla.csv')"
   ]
  },
  {
   "cell_type": "code",
   "execution_count": null,
   "id": "15",
   "metadata": {},
   "outputs": [],
   "source": [
    "f.fill_from_rcmip()"
   ]
  },
  {
   "cell_type": "code",
   "execution_count": null,
   "id": "16",
   "metadata": {},
   "outputs": [],
   "source": [
    "# override RCMIP natural forcing\n",
    "fill(f.forcing, np.array(natural_forcing_df.loc[1850:2015, 'solar'])[:, None, None], specie='Solar')\n",
    "fill(f.forcing, np.array(natural_forcing_df.loc[1850:2015, 'volcanic'])[:, None, None], specie='Volcanic')"
   ]
  },
  {
   "cell_type": "code",
   "execution_count": null,
   "id": "17",
   "metadata": {},
   "outputs": [],
   "source": [
    "f.emissions[:,0,0,3:10]"
   ]
  },
  {
   "cell_type": "code",
   "execution_count": null,
   "id": "18",
   "metadata": {},
   "outputs": [],
   "source": [
    "f.emissions.loc[dict(specie='Sulfur', timepoints=1850.5)]"
   ]
  },
  {
   "cell_type": "code",
   "execution_count": null,
   "id": "19",
   "metadata": {},
   "outputs": [],
   "source": [
    "landuse_erf = pd.read_csv('../data/calibration/landuse_forcing.csv', index_col=0)\n",
    "f.forcing.loc[dict(specie='Land use', scenario='ssp245', config='UKESM1-0-LL')] = landuse_erf.values[:166, 1]"
   ]
  },
  {
   "cell_type": "code",
   "execution_count": null,
   "id": "20",
   "metadata": {},
   "outputs": [],
   "source": [
    "# 1850 baselines\n",
    "for specie in ['Sulfur', 'BC', 'OC', 'NOx', 'VOC', 'CO', 'NH3']:\n",
    "    f.species_configs['baseline_emissions'].loc[dict(specie=specie)] = f.emissions.loc[dict(specie=specie, timepoints=1850.5, scenario='ssp245')]\n",
    "\n",
    "for specie in ['CO2', 'CH4', 'N2O', 'CFC-11', 'CFC-12', 'CFC-113', 'CFC-114', 'CFC-115', 'HCFC-22', 'HCFC-141b', 'HCFC-142b',\n",
    "    'CCl4', 'CHCl3', 'CH2Cl2', 'CH3Cl', 'CH3CCl3', 'CH3Br', 'Halon-1211', 'Halon-1301', 'Halon-2402',\n",
    "    'CF4', 'C2F6', 'C3F8', 'c-C4F8', 'C4F10', 'C5F12', 'C6F14', 'C7F16', 'C8F18', 'NF3', 'SF6', 'SO2F2',\n",
    "    'HFC-125', 'HFC-134a', 'HFC-143a', 'HFC-152a', 'HFC-227ea', 'HFC-23', 'HFC-236fa', 'HFC-245fa',\n",
    "    'HFC-32', 'HFC-365mfc', 'HFC-4310mee']:\n",
    "    f.species_configs['baseline_concentration'].loc[dict(specie=specie)] = f.concentration.loc[dict(specie=specie, timebounds=1850, scenario='ssp245')]\n",
    "\n",
    "# check this against the last cell in this script\n",
    "f.species_configs['baseline_concentration'].loc[dict(specie='Equivalent effective stratospheric chlorine')] = 344.36275911\n",
    "\n",
    "## rebase volcanic to zero mean\n",
    "#f.forcing.loc[dict(specie='Volcanic')] = f.forcing.loc[dict(specie='Volcanic')] - f.forcing.loc[dict(specie='Volcanic', scenario='ssp245', config='UKESM1-0-LL')].mean()"
   ]
  },
  {
   "cell_type": "code",
   "execution_count": null,
   "id": "21",
   "metadata": {},
   "outputs": [],
   "source": [
    "# fill temperature\n",
    "f.temperature[:-1, ...] = temp_ukesm_mean[:, None, None, None]\n",
    "f.temperature[-1, ...] = f.temperature[-2, ...]\n",
    "\n",
    "# pre-calibrated for aerosol (05) and CH4 (07) runs: do not adjust\n",
    "f.species_configs['erfari_radiative_efficiency'].loc[dict(specie='Sulfur')] = -0.00283793\n",
    "f.species_configs['erfari_radiative_efficiency'].loc[dict(specie='BC')] = 0.01757433\n",
    "f.species_configs['erfari_radiative_efficiency'].loc[dict(specie='OC')] = -0.0028512\n",
    "f.species_configs['aci_scale'].loc[dict(config='UKESM1-0-LL')] = -8.22336281e-01\n",
    "f.species_configs['aci_shape'].loc[dict(specie='Sulfur')] = 3.01888722e-02\n",
    "f.species_configs['aci_shape'].loc[dict(specie='BC')] = 5.07111186e-30\n",
    "f.species_configs['aci_shape'].loc[dict(specie='OC')] = 6.60381587e-16\n",
    "f.species_configs['forcing_scale'].loc[dict(specie=\"CH4\")] = 1.11547955\n",
    "f.species_configs['ozone_radiative_efficiency'].loc[dict(specie=\"CH4\")] = 1.27049657e-04\n",
    "f.species_configs['h2o_stratospheric_factor'].loc[dict(specie=\"CH4\")] = 1.29652705e-01\n",
    "f.species_configs['erfari_radiative_efficiency'].loc[dict(specie=\"CH4\")] = -5.09377882e-05\n",
    "f.species_configs['aci_shape'].loc[dict(specie=\"CH4\")] = -2.61186113e-04\n",
    "\n",
    "# co-calibrated with N2O (10) and CO2 (09) runs:\n",
    "f.species_configs['forcing_scale'].loc[dict(specie=\"N2O\")] = 1.16044956348451\n",
    "f.species_configs['forcing_scale'].loc[dict(specie=\"CO2\")] = 1.04321901751203"
   ]
  },
  {
   "cell_type": "code",
   "execution_count": null,
   "id": "22",
   "metadata": {},
   "outputs": [],
   "source": [
    "ch4 = f.concentration.loc[dict(specie='CH4')].squeeze().values\n",
    "n2o = f.concentration.loc[dict(specie='N2O')].squeeze().values\n",
    "eesc = f.concentration.loc[dict(specie='Equivalent effective stratospheric chlorine')].squeeze().values\n",
    "\n",
    "voc = f.emissions.loc[dict(specie='VOC')].squeeze().values\n",
    "co = f.emissions.loc[dict(specie='CO')].squeeze().values\n",
    "nox = f.emissions.loc[dict(specie='NOx')].squeeze().values\n",
    "print(eesc[-2])"
   ]
  },
  {
   "cell_type": "code",
   "execution_count": null,
   "id": "23",
   "metadata": {},
   "outputs": [],
   "source": [
    "# values from Thornhill\n",
    "n2o_eff = 0.04 / (n2o[164]-n2o[0])\n",
    "voc_eff = 0.11 / (voc[164]-voc[0])\n",
    "nox_eff = 0.14 / (nox[164]-nox[0])\n",
    "eesc_eff = -0.33 / (1.13324964e+03)# precalc - also the forcing in the present day has been hand tuned to fit skeie much better\n",
    "n2o_eff, voc_eff, nox_eff, eesc_eff"
   ]
  },
  {
   "cell_type": "code",
   "execution_count": null,
   "id": "24",
   "metadata": {},
   "outputs": [],
   "source": [
    "f.species_configs['ozone_radiative_efficiency'].loc[dict(specie=\"Equivalent effective stratospheric chlorine\")] = eesc_eff\n",
    "f.species_configs['ozone_radiative_efficiency'].loc[dict(specie=\"N2O\")] = n2o_eff\n",
    "f.species_configs['ozone_radiative_efficiency'].loc[dict(specie=\"VOC\")] = voc_eff\n",
    "f.species_configs['ozone_radiative_efficiency'].loc[dict(specie=\"NOx\")] = nox_eff\n",
    "f.species_configs['forcing_temperature_feedback'].loc[dict(specie=\"Ozone\")] = -0.079  # Thornhill et al 2021 feedbacks"
   ]
  },
  {
   "cell_type": "code",
   "execution_count": null,
   "id": "25",
   "metadata": {},
   "outputs": [],
   "source": [
    "f.run()"
   ]
  },
  {
   "cell_type": "code",
   "execution_count": null,
   "id": "26",
   "metadata": {},
   "outputs": [],
   "source": [
    "# print('N2O               %+7.5f' % f.forcing.values[-2:-1,0,0,1].mean())\n",
    "print('Ozone             %+7.5f' % f.forcing.values[-2:-1,0,0,54].mean())\n",
    "# print('ARI               %+7.5f' % f.forcing.values[-2:-1,0,0,10].mean())\n",
    "# print('ACI               %+7.5f' % f.forcing.values[-2:-1,0,0,11].mean())\n",
    "# print('Sum of components %+7.5f' % (f.forcing.values[-2:-1,0,0,1]+f.forcing.values[-2:-1,0,0,9]+f.forcing.values[-2:-1,0,0,10]+f.forcing.values[-2:-1,0,0,11]))\n",
    "print('Scenario sum      %+7.5f' % f.forcing_sum.values[-2:-1,0,0].mean())"
   ]
  },
  {
   "cell_type": "code",
   "execution_count": null,
   "id": "27",
   "metadata": {},
   "outputs": [],
   "source": [
    "pl.plot(f.timebounds, f.forcing.loc[dict(specie='Ozone', scenario='ssp245', config='UKESM1-0-LL')])\n",
    "pl.plot(o3_ukesm.index.map(float), o3_ukesm)"
   ]
  },
  {
   "cell_type": "code",
   "execution_count": null,
   "id": "28",
   "metadata": {},
   "outputs": [],
   "source": [
    "f.forcing[1, 0, 0, :]"
   ]
  },
  {
   "cell_type": "code",
   "execution_count": null,
   "id": "29",
   "metadata": {},
   "outputs": [],
   "source": [
    "f.forcing_sum[1, 0, 0]"
   ]
  },
  {
   "cell_type": "code",
   "execution_count": null,
   "id": "30",
   "metadata": {},
   "outputs": [],
   "source": [
    "f.temperature[:, 0, 0, 0]"
   ]
  },
  {
   "cell_type": "code",
   "execution_count": null,
   "id": "31",
   "metadata": {},
   "outputs": [],
   "source": [
    "f.concentration.sel(specie='Equivalent effective stratospheric chlorine', timebounds=np.arange(1850, 1853))"
   ]
  },
  {
   "cell_type": "code",
   "execution_count": null,
   "id": "32",
   "metadata": {},
   "outputs": [],
   "source": [
    "f.concentration.sel(specie='Equivalent effective stratospheric chlorine', timebounds=np.arange(2014, 2016))"
   ]
  },
  {
   "cell_type": "code",
   "execution_count": null,
   "id": "33",
   "metadata": {},
   "outputs": [],
   "source": []
  }
 ],
 "metadata": {
  "kernelspec": {
   "display_name": "Python 3 (ipykernel)",
   "language": "python",
   "name": "python3"
  },
  "language_info": {
   "codemirror_mode": {
    "name": "ipython",
    "version": 3
   },
   "file_extension": ".py",
   "mimetype": "text/x-python",
   "name": "python",
   "nbconvert_exporter": "python",
   "pygments_lexer": "ipython3",
   "version": "3.13.1"
  }
 },
 "nbformat": 4,
 "nbformat_minor": 5
}
