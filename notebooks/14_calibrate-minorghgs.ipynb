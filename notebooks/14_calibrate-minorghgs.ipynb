{
 "cells": [
  {
   "cell_type": "markdown",
   "id": "0",
   "metadata": {},
   "source": [
    "# ODSs and HFCs\n",
    "\n",
    "\n",
    "From Fiona's paper (https://acp.copernicus.org/articles/21/1211/2021/), ODS forcing is -0.18, and we know the ozone contribution is -0.33, so the direct forcing contribution from ODSs is +0.15.\n",
    "\n",
    "**There is an ACI effect from Ozone**\n",
    "\n",
    "The total GHG forcing is +2.93, and the sum of CO2, CH4, N2O and ODSs is +2.92. Things might be non-linear and internal variability might be affecting things, but this means that HFCs = +0.01."
   ]
  },
  {
   "cell_type": "code",
   "execution_count": 1,
   "id": "1",
   "metadata": {},
   "outputs": [
    {
     "name": "stderr",
     "output_type": "stream",
     "text": [
      "/Users/c.l.b.alexander/Documents/FAIR/fair_virtual_env/lib/python3.13/site-packages/tqdm/auto.py:21: TqdmWarning: IProgress not found. Please update jupyter and ipywidgets. See https://ipywidgets.readthedocs.io/en/stable/user_install.html\n",
      "  from .autonotebook import tqdm as notebook_tqdm\n"
     ]
    }
   ],
   "source": [
    "from fair import FAIR\n",
    "from fair.interface import fill, initialise\n",
    "from fair.io import read_properties\n",
    "\n",
    "import matplotlib.pyplot as pl\n",
    "import numpy as np\n",
    "import pandas as pd\n",
    "import pooch\n",
    "from scipy.interpolate import interp1d\n",
    "from scipy.optimize import root"
   ]
  },
  {
   "cell_type": "code",
   "execution_count": 2,
   "id": "2",
   "metadata": {},
   "outputs": [],
   "source": [
    "climate_response_df = pd.read_csv('../data/fair-calibrations/4xCO2_energy_balance_ebm3.csv')"
   ]
  },
  {
   "cell_type": "code",
   "execution_count": 3,
   "id": "3",
   "metadata": {},
   "outputs": [],
   "source": [
    "rcmip_emissions_file = pooch.retrieve(\n",
    "    url=\"doi:10.5281/zenodo.4589756/rcmip-emissions-annual-means-v5-1-0.csv\",\n",
    "    known_hash=\"md5:4044106f55ca65b094670e7577eaf9b3\",\n",
    ")\n",
    "emis_df = pd.read_csv(rcmip_emissions_file)"
   ]
  },
  {
   "cell_type": "code",
   "execution_count": 4,
   "id": "4",
   "metadata": {},
   "outputs": [],
   "source": [
    "rcmip_concentration_file = pooch.retrieve(\n",
    "    url=\"doi:10.5281/zenodo.4589756/rcmip-concentrations-annual-means-v5-1-0.csv\",\n",
    "    known_hash=\"md5:0d82c3c3cdd4dd632b2bb9449a5c315f\",\n",
    ")\n",
    "conc_df = pd.read_csv(rcmip_concentration_file)"
   ]
  },
  {
   "cell_type": "code",
   "execution_count": 5,
   "id": "5",
   "metadata": {},
   "outputs": [],
   "source": [
    "ods = ['CFC-11', 'CFC-12', 'CFC-113', 'CFC-114', 'CFC-115', 'HCFC-22', 'HCFC-141b', 'HCFC-142b',\n",
    "        'CCl4', 'CHCl3', 'CH2Cl2', 'CH3Cl', 'CH3CCl3', 'CH3Br', 'Halon-1211', 'Halon-1301', 'Halon-2402']\n",
    "\n",
    "hfc = ['CF4', 'C2F6', 'C3F8', 'c-C4F8', 'C4F10', 'C5F12', 'C6F14', 'C7F16', 'C8F18', 'NF3', 'SF6', 'SO2F2',\n",
    "        'HFC-125', 'HFC-134a', 'HFC-143a', 'HFC-152a', 'HFC-227ea', 'HFC-23', 'HFC-236fa', 'HFC-245fa', 'HFC-32',\n",
    "        'HFC-365mfc', 'HFC-4310mee']\n",
    "\n",
    "ghgs = ['CO2', 'CH4', 'N2O'] + ods + hfc"
   ]
  },
  {
   "cell_type": "code",
   "execution_count": 6,
   "id": "6",
   "metadata": {},
   "outputs": [],
   "source": [
    "species_to_rcmip = {specie: specie.replace(\"-\", \"\") for specie in ghgs}"
   ]
  },
  {
   "cell_type": "code",
   "execution_count": 7,
   "id": "7",
   "metadata": {},
   "outputs": [],
   "source": [
    "# iterative tuning\n",
    "target_hfc = +0.01\n",
    "target_ods = +0.15"
   ]
  },
  {
   "cell_type": "code",
   "execution_count": 8,
   "id": "8",
   "metadata": {},
   "outputs": [],
   "source": [
    "def erf_rootfinder(x):\n",
    "    ods_scale, hfc_scale = x\n",
    "    f = FAIR(temperature_prescribed=True)\n",
    "\n",
    "    f.define_time(1850, 2015, 1)\n",
    "    scenarios = ['ssp245']\n",
    "    f.define_scenarios(scenarios)\n",
    "    configs = ['UKESM1-0-LL']\n",
    "    f.define_configs(configs)\n",
    "    species, properties = read_properties(filename='../data/species_configs_properties_vanilla.csv')\n",
    "    species.remove('CO2 FFI')      # c-driven run\n",
    "    species.remove('CO2 AFOLU')    # c-driven run\n",
    "    species.remove('Halon-1202')   # not in CMIP6 list of species\n",
    "    species.remove('Contrails')    # not modelled in UKESM, I think\n",
    "    species.remove('NOx aviation') # which renders this redundant\n",
    "    species.remove('Light absorbing particles on snow and ice')  # I believe not modelled in UKESM\n",
    "    species.remove('Land use')     # Nothing here affects or is affected by when we only want GHG forcing\n",
    "    species.remove('Solar')        # Not needed\n",
    "    species.remove('Volcanic')     # Not needed\n",
    "    del properties['CO2 FFI']\n",
    "    del properties['CO2 AFOLU']\n",
    "    del properties['Halon-1202']\n",
    "    del properties['Contrails']\n",
    "    del properties['NOx aviation']\n",
    "    del properties['Light absorbing particles on snow and ice']\n",
    "    del properties['Land use']\n",
    "    del properties['Solar']\n",
    "    del properties['Volcanic']\n",
    "\n",
    "    for specie in ghgs:\n",
    "        properties[specie]['input_mode'] = 'concentration'\n",
    "    f.define_species(species, properties)\n",
    "    f.allocate()\n",
    "    \n",
    "    fill(f.climate_configs['ocean_heat_capacity'], climate_response_df.loc[0, 'C1':'C3'])\n",
    "    fill(f.climate_configs['ocean_heat_transfer'], climate_response_df.loc[0, 'kappa1':'kappa3'])\n",
    "    fill(f.climate_configs['deep_ocean_efficacy'], climate_response_df.loc[0, 'epsilon'])\n",
    "    fill(f.climate_configs['gamma_autocorrelation'], climate_response_df.loc[0, 'gamma'])\n",
    "    \n",
    "    initialise(f.forcing, 0)\n",
    "    fill(f.temperature, 0)\n",
    "    \n",
    "    for specie in ghgs:\n",
    "\n",
    "        conc = conc_df.loc[(conc_df['Variable'].str.endswith('|' + species_to_rcmip[specie])) & \n",
    "                        (conc_df['Scenario']=='historical') &\n",
    "                        (conc_df['Region']=='World'), '1850':'2015'].values.squeeze()\n",
    "        conc[-1] = conc[-2]\n",
    "        if specie in ods + hfc:\n",
    "            fill(\n",
    "                f.concentration.loc[\n",
    "                    dict(specie=specie, timebounds=slice(1850,2016), scenario='ssp245', config='UKESM1-0-LL')],\n",
    "                conc\n",
    "            )       \n",
    "        else:\n",
    "            fill(\n",
    "                f.concentration.loc[\n",
    "                    dict(specie=specie, timebounds=slice(1850,2016), scenario='ssp245', config='UKESM1-0-LL')],\n",
    "                conc[0]\n",
    "            )\n",
    "\n",
    "    f.fill_species_configs(filename='../data/species_configs_properties_vanilla.csv')\n",
    "    f.species_configs['baseline_concentration'].loc[dict(specie=specie)] = conc[0]\n",
    "    \n",
    "    \n",
    "    # fill emissions and baseline emissions with 1850 values\n",
    "    for specie in ['Sulfur', 'BC', 'OC', 'VOC', 'NOx', 'CO', 'NH3']:\n",
    "        emis = emis_df.loc[(emis_df['Variable'].str.endswith('|' + specie)) & \n",
    "                    (emis_df['Scenario']=='ssp245') &\n",
    "                    (emis_df['Region']=='World'), '1850'].values[0]\n",
    "\n",
    "        f.emissions.loc[dict(specie=specie, timepoints=slice(1850.5,2015), scenario='ssp245', config='UKESM1-0-LL')] = emis\n",
    "        f.species_configs['baseline_emissions'].loc[dict(specie=specie)] = emis\n",
    "        \n",
    "    # fill concentrations and baseline concentrations\n",
    "    for specie in ghgs:\n",
    "\n",
    "        conc = conc_df.loc[(conc_df['Variable'].str.endswith('|' + species_to_rcmip[specie])) & \n",
    "                        (conc_df['Scenario']=='historical') &\n",
    "                        (conc_df['Region']=='World'), '1850':'2015'].values.squeeze()\n",
    "        conc[-1] = conc[-2]\n",
    "        if specie in ods + hfc:\n",
    "            fill(\n",
    "                f.concentration.loc[\n",
    "                    dict(specie=specie, timebounds=slice(1850,2016), scenario='ssp245', config='UKESM1-0-LL')],\n",
    "                conc\n",
    "            )\n",
    "\n",
    "        else:\n",
    "            fill(\n",
    "                f.concentration.loc[\n",
    "                    dict(specie=specie, timebounds=slice(1850,2016), scenario='ssp245', config='UKESM1-0-LL')],\n",
    "                conc[0]\n",
    "            )\n",
    "        f.species_configs['baseline_concentration'].loc[dict(specie=specie)] = conc[0]\n",
    "\n",
    "    f.species_configs['baseline_concentration'].loc[dict(specie='Equivalent effective stratospheric chlorine')] = 344.36275911\n",
    "    \n",
    "    # pre-calibrated for methane, aerosol, CO2, N2O and ozone runs: do not adjust\n",
    "    f.species_configs['forcing_scale'].loc[dict(specie=\"CH4\")] = 1.11547955\n",
    "    f.species_configs['h2o_stratospheric_factor'].loc[dict(specie=\"CH4\")] = 1.29652705e-01\n",
    "    f.species_configs['ozone_radiative_efficiency'].loc[dict(specie=\"CH4\")] = 1.27049657e-04\n",
    "    f.species_configs['ozone_radiative_efficiency'].loc[dict(specie=\"Equivalent effective stratospheric chlorine\")] = -0.00029119797470220245\n",
    "    f.species_configs['ozone_radiative_efficiency'].loc[dict(specie=\"N2O\")] = 0.0007481397748679878\n",
    "    f.species_configs['ozone_radiative_efficiency'].loc[dict(specie=\"VOC\")] = 0.0006596999582126578\n",
    "    f.species_configs['ozone_radiative_efficiency'].loc[dict(specie=\"NOx\")] = 0.000984642055228785\n",
    "    f.species_configs['forcing_temperature_feedback'].loc[dict(specie=\"Ozone\")] = -0.09693932216231645  # (13)\n",
    "    f.species_configs['forcing_scale'].loc[dict(specie=\"N2O\")] = 1.16044956348451\n",
    "    f.species_configs['forcing_scale'].loc[dict(specie=\"CO2\")] = 1.04321901751203\n",
    "\n",
    "    for specie in species:\n",
    "        f.species_configs['erfari_radiative_efficiency'].loc[dict(specie=specie)] = 0\n",
    "    f.species_configs['erfari_radiative_efficiency'].loc[dict(specie='Sulfur')] = -0.00283793\n",
    "    f.species_configs['erfari_radiative_efficiency'].loc[dict(specie='BC')] = 0.01757433\n",
    "    f.species_configs['erfari_radiative_efficiency'].loc[dict(specie='OC')] = -0.0028512\n",
    "    f.species_configs['erfari_radiative_efficiency'].loc[dict(specie='CH4')] = -5.09377882e-05\n",
    "    f.species_configs['aci_scale'].loc[dict(config='UKESM1-0-LL')] = -8.22336281e-01\n",
    "    f.species_configs['aci_shape'].loc[dict(specie='Sulfur')] = 3.01888722e-02\n",
    "    f.species_configs['aci_shape'].loc[dict(specie='BC')] = 5.07111186e-30\n",
    "    f.species_configs['aci_shape'].loc[dict(specie='OC')] = 6.60381587e-16\n",
    "    f.species_configs['aci_shape'].loc[dict(specie=\"CH4\")] = -2.61186114e-04\n",
    "\n",
    "    # This is what we are adjusting\n",
    "    for specie in ods:\n",
    "        f.species_configs['forcing_scale'].loc[dict(specie=specie)] = ods_scale\n",
    "    for specie in hfc:\n",
    "        f.species_configs['forcing_scale'].loc[dict(specie=specie)] = hfc_scale\n",
    "    \n",
    "    f.run(progress=False)\n",
    "    f_hfc = f.forcing[-1,0,0,27:50].sum().data\n",
    "    f_ods = f.forcing_sum[-1,0,0].data - f_hfc\n",
    "    print(f_hfc, f_ods)\n",
    "    return np.array(\n",
    "        [\n",
    "            f_ods - target_ods, \n",
    "            f_hfc - target_hfc, \n",
    "        ]\n",
    "    )"
   ]
  },
  {
   "cell_type": "code",
   "execution_count": 9,
   "id": "9",
   "metadata": {},
   "outputs": [
    {
     "name": "stdout",
     "output_type": "stream",
     "text": [
      "0.039603197521217305 0.0031813043685273365\n",
      "0.039603197521217305 0.0031813043685273365\n",
      "0.039603197521217305 0.0031813043685273365\n",
      "0.039603197521217305 0.0031813093029774073\n",
      "0.03960319811135095 0.003181304368527413\n",
      "0.010000000666458052 0.15000000217381065\n",
      "0.010000000666458052 0.1500000092960298\n",
      "0.010000000815469671 0.15000000217381057\n",
      "0.009999999999999985 0.1499999999999996\n"
     ]
    }
   ],
   "source": [
    "solution = root(\n",
    "    erf_rootfinder, \n",
    "    np.array(\n",
    "        [\n",
    "            1,\n",
    "            1,\n",
    "        ],\n",
    "    ),\n",
    "    method='lm',\n",
    "    options={'maxiter': 500000}\n",
    ")"
   ]
  },
  {
   "cell_type": "code",
   "execution_count": 10,
   "id": "10",
   "metadata": {},
   "outputs": [
    {
     "data": {
      "text/plain": [
       "array([1.44336634, 0.25250486])"
      ]
     },
     "execution_count": 10,
     "metadata": {},
     "output_type": "execute_result"
    }
   ],
   "source": [
    "solution.x"
   ]
  },
  {
   "cell_type": "code",
   "execution_count": null,
   "id": "11",
   "metadata": {},
   "outputs": [],
   "source": []
  }
 ],
 "metadata": {
  "kernelspec": {
   "display_name": "fair_virtual_env",
   "language": "python",
   "name": "python3"
  },
  "language_info": {
   "codemirror_mode": {
    "name": "ipython",
    "version": 3
   },
   "file_extension": ".py",
   "mimetype": "text/x-python",
   "name": "python",
   "nbconvert_exporter": "python",
   "pygments_lexer": "ipython3",
   "version": "3.13.3"
  }
 },
 "nbformat": 4,
 "nbformat_minor": 5
}
