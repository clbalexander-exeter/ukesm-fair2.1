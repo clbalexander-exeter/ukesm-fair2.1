{
 "cells": [
  {
   "cell_type": "markdown",
   "id": "0",
   "metadata": {},
   "source": [
    "# N2O forcing\n",
    "\n",
    "\n",
    "From O'Connor et al. 2021:\n",
    "\n",
    "- +0.25 W m-2\n",
    "\n",
    "no account how this breaks down into direct forcing and ozone contributions in any of Fiona's papers, but from Thornhill I have 0.04 as the contribution to ozone, so direct forcing is 0.21"
   ]
  },
  {
   "cell_type": "code",
   "execution_count": 1,
   "id": "1",
   "metadata": {},
   "outputs": [
    {
     "name": "stderr",
     "output_type": "stream",
     "text": [
      "/Users/c.l.b.alexander/Documents/FAIR/fair_virtual_env/lib/python3.13/site-packages/tqdm/auto.py:21: TqdmWarning: IProgress not found. Please update jupyter and ipywidgets. See https://ipywidgets.readthedocs.io/en/stable/user_install.html\n",
      "  from .autonotebook import tqdm as notebook_tqdm\n"
     ]
    }
   ],
   "source": [
    "from fair import FAIR\n",
    "from fair.interface import fill, initialise\n",
    "from fair.io import read_properties\n",
    "\n",
    "import matplotlib.pyplot as pl\n",
    "import pandas as pd\n",
    "import pooch\n",
    "from scipy.optimize import root"
   ]
  },
  {
   "cell_type": "code",
   "execution_count": 2,
   "id": "2",
   "metadata": {},
   "outputs": [],
   "source": [
    "climate_response_df = pd.read_csv('../data/fair-calibrations/4xCO2_energy_balance_ebm3.csv')"
   ]
  },
  {
   "cell_type": "code",
   "execution_count": 3,
   "id": "3",
   "metadata": {},
   "outputs": [
    {
     "data": {
      "text/plain": [
       "{'CH4': {'type': 'ch4',\n",
       "  'input_mode': 'concentration',\n",
       "  'greenhouse_gas': True,\n",
       "  'aerosol_chemistry_from_emissions': False,\n",
       "  'aerosol_chemistry_from_concentration': True},\n",
       " 'N2O': {'type': 'n2o',\n",
       "  'input_mode': 'concentration',\n",
       "  'greenhouse_gas': True,\n",
       "  'aerosol_chemistry_from_emissions': False,\n",
       "  'aerosol_chemistry_from_concentration': True},\n",
       " 'CO2': {'type': 'co2',\n",
       "  'input_mode': 'concentration',\n",
       "  'greenhouse_gas': True,\n",
       "  'aerosol_chemistry_from_emissions': False,\n",
       "  'aerosol_chemistry_from_concentration': False},\n",
       " 'Equivalent effective stratospheric chlorine': {'type': 'eesc',\n",
       "  'input_mode': 'concentration',\n",
       "  'greenhouse_gas': False,\n",
       "  'aerosol_chemistry_from_emissions': False,\n",
       "  'aerosol_chemistry_from_concentration': True},\n",
       " 'VOC': {'type': 'other slcf',\n",
       "  'input_mode': 'emissions',\n",
       "  'greenhouse_gas': False,\n",
       "  'aerosol_chemistry_from_emissions': True,\n",
       "  'aerosol_chemistry_from_concentration': False},\n",
       " 'NOx': {'type': 'other slcf',\n",
       "  'input_mode': 'emissions',\n",
       "  'greenhouse_gas': False,\n",
       "  'aerosol_chemistry_from_emissions': True,\n",
       "  'aerosol_chemistry_from_concentration': False},\n",
       " 'Ozone': {'type': 'ozone',\n",
       "  'input_mode': 'calculated',\n",
       "  'greenhouse_gas': False,\n",
       "  'aerosol_chemistry_from_emissions': False,\n",
       "  'aerosol_chemistry_from_concentration': False}}"
      ]
     },
     "execution_count": 3,
     "metadata": {},
     "output_type": "execute_result"
    }
   ],
   "source": [
    "scenarios = ['ssp245']\n",
    "configs = ['UKESM1-0-LL']\n",
    "species = [\n",
    "    'CH4',\n",
    "    'N2O',\n",
    "    'CO2',\n",
    "    'Equivalent effective stratospheric chlorine',\n",
    "    'VOC',\n",
    "    'NOx',\n",
    "    'Ozone',\n",
    "]\n",
    "species, properties = read_properties(species=species, filename='../data/species_configs_properties_vanilla.csv')\n",
    "properties['CH4']['input_mode'] = 'concentration'\n",
    "properties['N2O']['input_mode'] = 'concentration'\n",
    "properties['CO2']['input_mode'] = 'concentration'\n",
    "properties['Equivalent effective stratospheric chlorine']['input_mode'] = 'concentration'\n",
    "properties"
   ]
  },
  {
   "cell_type": "code",
   "execution_count": 4,
   "id": "4",
   "metadata": {},
   "outputs": [],
   "source": [
    "rcmip_emissions_file = pooch.retrieve(\n",
    "    url=\"doi:10.5281/zenodo.4589756/rcmip-emissions-annual-means-v5-1-0.csv\",\n",
    "    known_hash=\"md5:4044106f55ca65b094670e7577eaf9b3\",\n",
    ")\n",
    "emis_df = pd.read_csv(rcmip_emissions_file)"
   ]
  },
  {
   "cell_type": "code",
   "execution_count": 5,
   "id": "5",
   "metadata": {},
   "outputs": [],
   "source": [
    "rcmip_concentration_file = pooch.retrieve(\n",
    "    url=\"doi:10.5281/zenodo.4589756/rcmip-concentrations-annual-means-v5-1-0.csv\",\n",
    "    known_hash=\"md5:0d82c3c3cdd4dd632b2bb9449a5c315f\",\n",
    ")\n",
    "conc_df = pd.read_csv(rcmip_concentration_file)"
   ]
  },
  {
   "cell_type": "code",
   "execution_count": 6,
   "id": "6",
   "metadata": {},
   "outputs": [],
   "source": [
    "voc = emis_df.loc[(emis_df['Scenario']=='historical')&(emis_df['Variable']=='Emissions|VOC')&(emis_df['Region']=='World'),'1850'].values[0]\n",
    "nox = emis_df.loc[(emis_df['Scenario']=='historical')&(emis_df['Variable']=='Emissions|NOx')&(emis_df['Region']=='World'),'1850'].values[0]\n",
    "\n",
    "co2 = conc_df.loc[(conc_df['Scenario']=='historical')&(conc_df['Variable']=='Atmospheric Concentrations|CO2')&(conc_df['Region']=='World'),'1850'].values[0]\n",
    "n2o = conc_df.loc[(conc_df['Scenario']=='ssp245')&(conc_df['Variable']=='Atmospheric Concentrations|N2O')&(conc_df['Region']=='World'),'1850':'2015'].values.squeeze()\n",
    "n2o[-2] = n2o[-1]\n",
    "ch4 = conc_df.loc[(conc_df['Scenario']=='historical')&(conc_df['Variable']=='Atmospheric Concentrations|CH4')&(conc_df['Region']=='World'),'1850'].values[0]"
   ]
  },
  {
   "cell_type": "code",
   "execution_count": 7,
   "id": "7",
   "metadata": {},
   "outputs": [],
   "source": [
    "target_forcing = 0.21\n",
    "\n",
    "def erf_rootfinder(x):\n",
    "    f = FAIR(temperature_prescribed=True)\n",
    "    f.define_time(1850, 2015, 1)\n",
    "    f.define_scenarios(scenarios)\n",
    "    f.define_configs(configs)\n",
    "    f.define_species(species, properties)\n",
    "    f.allocate()\n",
    "    f.fill_species_configs(filename='../data/species_configs_properties_vanilla.csv')\n",
    "    \n",
    "    # 1850 baselines\n",
    "    f.species_configs['baseline_emissions'].loc[dict(specie='VOC')] = voc\n",
    "    f.species_configs['baseline_emissions'].loc[dict(specie='NOx')] = nox\n",
    "    f.species_configs['baseline_concentration'].loc[dict(specie='CH4')] = ch4\n",
    "    f.species_configs['baseline_concentration'].loc[dict(specie='N2O')] = n2o[0]\n",
    "    f.species_configs['baseline_concentration'].loc[dict(specie='CO2')] = co2\n",
    "    f.species_configs['baseline_concentration'].loc[dict(specie='Equivalent effective stratospheric chlorine')] = 0\n",
    "    \n",
    "#    f.fill_species_configs()\n",
    "    fill(f.climate_configs['ocean_heat_capacity'], climate_response_df.loc[0, 'C1':'C3'])\n",
    "    fill(f.climate_configs['ocean_heat_transfer'], climate_response_df.loc[0, 'kappa1':'kappa3'])\n",
    "    fill(f.climate_configs['deep_ocean_efficacy'], climate_response_df.loc[0, 'epsilon'])\n",
    "    fill(f.climate_configs['gamma_autocorrelation'], climate_response_df.loc[0, 'gamma'])\n",
    "    \n",
    "    # fill emissions and concentrations\n",
    "    f.emissions.loc[dict(specie='VOC')] = voc\n",
    "    f.emissions.loc[dict(specie='NOx')] = nox\n",
    "    f.concentration.loc[dict(specie='CH4')] = ch4\n",
    "    f.concentration.loc[dict(specie='N2O')] = n2o[:, None, None]\n",
    "    f.concentration.loc[dict(specie='CO2')] = co2\n",
    "    f.concentration.loc[dict(specie='Equivalent effective stratospheric chlorine')] = 0\n",
    "    f.temperature[:] = 0\n",
    "\n",
    "    # pre-calibrated for methane and ozone runs: do not adjust\n",
    "    # methane forcing scale from 07\n",
    "    # presume ozone radiative effiencies are from original AR6 calibration for UKESM?\n",
    "    f.species_configs['forcing_scale'].loc[dict(specie=\"CH4\")] = 1.11547955\n",
    "    f.species_configs['ozone_radiative_efficiency'].loc[dict(specie=\"CH4\")] = 1.27049657e-04\n",
    "    f.species_configs['ozone_radiative_efficiency'].loc[dict(specie=\"Equivalent effective stratospheric chlorine\")] = -0.00029119797470220245\n",
    "    f.species_configs['ozone_radiative_efficiency'].loc[dict(specie=\"N2O\")] = 0.0007481397748679878\n",
    "    f.species_configs['ozone_radiative_efficiency'].loc[dict(specie=\"VOC\")] = 0.0006596999582126578\n",
    "    f.species_configs['ozone_radiative_efficiency'].loc[dict(specie=\"NOx\")] = 0.000984642055228785\n",
    "    f.species_configs['forcing_temperature_feedback'].loc[dict(specie=\"Ozone\")] = -0.079  # Thornhill et al 2021 feedbacks\n",
    "\n",
    "    # this is the variable we are changing: N2O scale factor\n",
    "    f.species_configs['forcing_scale'].loc[dict(specie=\"N2O\")] = x\n",
    "    \n",
    "    initialise(f.forcing, 0)\n",
    "    initialise(f.temperature, 0)\n",
    "    initialise(f.cumulative_emissions, 0) \n",
    "    f.run(progress=False)\n",
    "    return f.forcing[-1, 0, 0, 1] - target_forcing"
   ]
  },
  {
   "cell_type": "code",
   "execution_count": 8,
   "id": "8",
   "metadata": {},
   "outputs": [],
   "source": [
    "sol = root(erf_rootfinder, 1.09)"
   ]
  },
  {
   "cell_type": "code",
   "execution_count": 9,
   "id": "9",
   "metadata": {},
   "outputs": [
    {
     "data": {
      "text/plain": [
       "np.float64(1.1604495634845151)"
      ]
     },
     "execution_count": 9,
     "metadata": {},
     "output_type": "execute_result"
    }
   ],
   "source": [
    "sol.x[0]"
   ]
  },
  {
   "cell_type": "code",
   "execution_count": null,
   "id": "10",
   "metadata": {},
   "outputs": [],
   "source": []
  }
 ],
 "metadata": {
  "kernelspec": {
   "display_name": "fair_virtual_env",
   "language": "python",
   "name": "python3"
  },
  "language_info": {
   "codemirror_mode": {
    "name": "ipython",
    "version": 3
   },
   "file_extension": ".py",
   "mimetype": "text/x-python",
   "name": "python",
   "nbconvert_exporter": "python",
   "pygments_lexer": "ipython3",
   "version": "3.13.3"
  }
 },
 "nbformat": 4,
 "nbformat_minor": 5
}
